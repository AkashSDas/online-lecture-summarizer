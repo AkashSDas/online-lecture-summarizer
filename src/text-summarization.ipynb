{
 "cells": [
  {
   "cell_type": "markdown",
   "metadata": {
    "_cell_guid": "b1076dfc-b9ad-4769-8c92-a6c4dae69d19",
    "_uuid": "8f2839f25d086af736a60e9eeb907d3b93b6e0e5",
    "papermill": {
     "duration": 0.053679,
     "end_time": "2020-10-06T15:25:26.323953",
     "exception": false,
     "start_time": "2020-10-06T15:25:26.270274",
     "status": "completed"
    },
    "tags": []
   },
   "source": [
    "# **📝 Text Summarization**\n",
    "\n",
    "---"
   ]
  },
  {
   "cell_type": "markdown",
   "metadata": {
    "_cell_guid": "79c7e3d0-c299-4dcb-8224-4455121ee9b0",
    "_uuid": "d629ff2d2480ee46fbb7e2d37f6b5fab8052498a",
    "collapsed": true,
    "papermill": {
     "duration": 0.051023,
     "end_time": "2020-10-06T15:25:26.425158",
     "exception": false,
     "start_time": "2020-10-06T15:25:26.374135",
     "status": "completed"
    },
    "tags": []
   },
   "source": [
    "## **🛩 Importing packages**"
   ]
  },
  {
   "cell_type": "code",
   "execution_count": 1,
   "metadata": {
    "execution": {
     "iopub.execute_input": "2020-10-06T15:25:26.535532Z",
     "iopub.status.busy": "2020-10-06T15:25:26.534669Z",
     "iopub.status.idle": "2020-10-06T15:25:34.350244Z",
     "shell.execute_reply": "2020-10-06T15:25:34.349366Z"
    },
    "papermill": {
     "duration": 7.875155,
     "end_time": "2020-10-06T15:25:34.350399",
     "exception": false,
     "start_time": "2020-10-06T15:25:26.475244",
     "status": "completed"
    },
    "tags": []
   },
   "outputs": [],
   "source": [
    "import re\n",
    "import math\n",
    "import pickle\n",
    "\n",
    "import numpy as np\n",
    "import pandas as pd\n",
    "import matplotlib.pyplot as plt\n",
    "\n",
    "import spacy\n",
    "from sklearn.model_selection import train_test_split\n",
    "\n",
    "import tensorflow as tf\n",
    "from tensorflow.keras.models import Model\n",
    "from tensorflow.keras.preprocessing.text import Tokenizer\n",
    "from tensorflow.keras.preprocessing.sequence import pad_sequences\n",
    "from tensorflow.keras.layers import LSTM, Bidirectional, Dense, Embedding, Input, TimeDistributed"
   ]
  },
  {
   "cell_type": "code",
   "execution_count": 2,
   "metadata": {
    "execution": {
     "iopub.execute_input": "2020-10-06T15:25:34.457543Z",
     "iopub.status.busy": "2020-10-06T15:25:34.456611Z",
     "iopub.status.idle": "2020-10-06T15:25:36.851006Z",
     "shell.execute_reply": "2020-10-06T15:25:36.850347Z"
    },
    "papermill": {
     "duration": 2.450619,
     "end_time": "2020-10-06T15:25:36.851149",
     "exception": false,
     "start_time": "2020-10-06T15:25:34.400530",
     "status": "completed"
    },
    "tags": []
   },
   "outputs": [],
   "source": [
    "!pip freeze > requirements.txt"
   ]
  },
  {
   "cell_type": "code",
   "execution_count": 3,
   "metadata": {
    "execution": {
     "iopub.execute_input": "2020-10-06T15:25:36.957280Z",
     "iopub.status.busy": "2020-10-06T15:25:36.956501Z",
     "iopub.status.idle": "2020-10-06T15:25:36.959862Z",
     "shell.execute_reply": "2020-10-06T15:25:36.959111Z"
    },
    "papermill": {
     "duration": 0.059356,
     "end_time": "2020-10-06T15:25:36.959986",
     "exception": false,
     "start_time": "2020-10-06T15:25:36.900630",
     "status": "completed"
    },
    "tags": []
   },
   "outputs": [],
   "source": [
    "try:\n",
    "    # spacy is used in Data Cleaning section\n",
    "    # if gpu is available then this configuration will speed up the process\n",
    "    spacy.prefer_gpu()\n",
    "except Exception as e:\n",
    "    print(e)"
   ]
  },
  {
   "cell_type": "markdown",
   "metadata": {
    "papermill": {
     "duration": 0.049263,
     "end_time": "2020-10-06T15:25:37.059258",
     "exception": false,
     "start_time": "2020-10-06T15:25:37.009995",
     "status": "completed"
    },
    "tags": []
   },
   "source": [
    "## **🚛 Getting the data**"
   ]
  },
  {
   "cell_type": "code",
   "execution_count": 4,
   "metadata": {
    "execution": {
     "iopub.execute_input": "2020-10-06T15:25:37.168819Z",
     "iopub.status.busy": "2020-10-06T15:25:37.167774Z",
     "iopub.status.idle": "2020-10-06T15:25:37.958840Z",
     "shell.execute_reply": "2020-10-06T15:25:37.958177Z"
    },
    "papermill": {
     "duration": 0.84864,
     "end_time": "2020-10-06T15:25:37.958982",
     "exception": false,
     "start_time": "2020-10-06T15:25:37.110342",
     "status": "completed"
    },
    "tags": []
   },
   "outputs": [],
   "source": [
    "filename1 = '../input/news-summary/news_summary.csv'\n",
    "filename2 = '../input/news-summary/news_summary_more.csv'\n",
    "\n",
    "df1 = pd.read_csv(filename1, encoding='iso-8859-1').reset_index(drop=True)\n",
    "df2 = pd.read_csv(filename2, encoding='iso-8859-1').reset_index(drop=True)"
   ]
  },
  {
   "cell_type": "code",
   "execution_count": 5,
   "metadata": {
    "execution": {
     "iopub.execute_input": "2020-10-06T15:25:38.077136Z",
     "iopub.status.busy": "2020-10-06T15:25:38.076242Z",
     "iopub.status.idle": "2020-10-06T15:25:38.086971Z",
     "shell.execute_reply": "2020-10-06T15:25:38.087652Z"
    },
    "papermill": {
     "duration": 0.078257,
     "end_time": "2020-10-06T15:25:38.087821",
     "exception": false,
     "start_time": "2020-10-06T15:25:38.009564",
     "status": "completed"
    },
    "tags": []
   },
   "outputs": [
    {
     "data": {
      "text/html": [
       "<div>\n",
       "<style scoped>\n",
       "    .dataframe tbody tr th:only-of-type {\n",
       "        vertical-align: middle;\n",
       "    }\n",
       "\n",
       "    .dataframe tbody tr th {\n",
       "        vertical-align: top;\n",
       "    }\n",
       "\n",
       "    .dataframe thead th {\n",
       "        text-align: right;\n",
       "    }\n",
       "</style>\n",
       "<table border=\"1\" class=\"dataframe\">\n",
       "  <thead>\n",
       "    <tr style=\"text-align: right;\">\n",
       "      <th></th>\n",
       "      <th>author</th>\n",
       "      <th>date</th>\n",
       "      <th>headlines</th>\n",
       "      <th>read_more</th>\n",
       "      <th>text</th>\n",
       "      <th>ctext</th>\n",
       "    </tr>\n",
       "  </thead>\n",
       "  <tbody>\n",
       "    <tr>\n",
       "      <th>0</th>\n",
       "      <td>Chhavi Tyagi</td>\n",
       "      <td>03 Aug 2017,Thursday</td>\n",
       "      <td>Daman &amp; Diu revokes mandatory Rakshabandhan in...</td>\n",
       "      <td>http://www.hindustantimes.com/india-news/raksh...</td>\n",
       "      <td>The Administration of Union Territory Daman an...</td>\n",
       "      <td>The Daman and Diu administration on Wednesday ...</td>\n",
       "    </tr>\n",
       "    <tr>\n",
       "      <th>1</th>\n",
       "      <td>Daisy Mowke</td>\n",
       "      <td>03 Aug 2017,Thursday</td>\n",
       "      <td>Malaika slams user who trolled her for 'divorc...</td>\n",
       "      <td>http://www.hindustantimes.com/bollywood/malaik...</td>\n",
       "      <td>Malaika Arora slammed an Instagram user who tr...</td>\n",
       "      <td>From her special numbers to TV?appearances, Bo...</td>\n",
       "    </tr>\n",
       "  </tbody>\n",
       "</table>\n",
       "</div>"
      ],
      "text/plain": [
       "         author                  date  \\\n",
       "0  Chhavi Tyagi  03 Aug 2017,Thursday   \n",
       "1   Daisy Mowke  03 Aug 2017,Thursday   \n",
       "\n",
       "                                           headlines  \\\n",
       "0  Daman & Diu revokes mandatory Rakshabandhan in...   \n",
       "1  Malaika slams user who trolled her for 'divorc...   \n",
       "\n",
       "                                           read_more  \\\n",
       "0  http://www.hindustantimes.com/india-news/raksh...   \n",
       "1  http://www.hindustantimes.com/bollywood/malaik...   \n",
       "\n",
       "                                                text  \\\n",
       "0  The Administration of Union Territory Daman an...   \n",
       "1  Malaika Arora slammed an Instagram user who tr...   \n",
       "\n",
       "                                               ctext  \n",
       "0  The Daman and Diu administration on Wednesday ...  \n",
       "1  From her special numbers to TV?appearances, Bo...  "
      ]
     },
     "execution_count": 5,
     "metadata": {},
     "output_type": "execute_result"
    }
   ],
   "source": [
    "df1.head(2)"
   ]
  },
  {
   "cell_type": "code",
   "execution_count": 6,
   "metadata": {
    "execution": {
     "iopub.execute_input": "2020-10-06T15:25:38.202295Z",
     "iopub.status.busy": "2020-10-06T15:25:38.201359Z",
     "iopub.status.idle": "2020-10-06T15:25:38.206563Z",
     "shell.execute_reply": "2020-10-06T15:25:38.205950Z"
    },
    "papermill": {
     "duration": 0.065927,
     "end_time": "2020-10-06T15:25:38.206692",
     "exception": false,
     "start_time": "2020-10-06T15:25:38.140765",
     "status": "completed"
    },
    "tags": []
   },
   "outputs": [
    {
     "data": {
      "text/html": [
       "<div>\n",
       "<style scoped>\n",
       "    .dataframe tbody tr th:only-of-type {\n",
       "        vertical-align: middle;\n",
       "    }\n",
       "\n",
       "    .dataframe tbody tr th {\n",
       "        vertical-align: top;\n",
       "    }\n",
       "\n",
       "    .dataframe thead th {\n",
       "        text-align: right;\n",
       "    }\n",
       "</style>\n",
       "<table border=\"1\" class=\"dataframe\">\n",
       "  <thead>\n",
       "    <tr style=\"text-align: right;\">\n",
       "      <th></th>\n",
       "      <th>headlines</th>\n",
       "      <th>text</th>\n",
       "    </tr>\n",
       "  </thead>\n",
       "  <tbody>\n",
       "    <tr>\n",
       "      <th>0</th>\n",
       "      <td>upGrad learner switches to career in ML &amp; Al w...</td>\n",
       "      <td>Saurav Kant, an alumnus of upGrad and IIIT-B's...</td>\n",
       "    </tr>\n",
       "    <tr>\n",
       "      <th>1</th>\n",
       "      <td>Delhi techie wins free food from Swiggy for on...</td>\n",
       "      <td>Kunal Shah's credit card bill payment platform...</td>\n",
       "    </tr>\n",
       "  </tbody>\n",
       "</table>\n",
       "</div>"
      ],
      "text/plain": [
       "                                           headlines  \\\n",
       "0  upGrad learner switches to career in ML & Al w...   \n",
       "1  Delhi techie wins free food from Swiggy for on...   \n",
       "\n",
       "                                                text  \n",
       "0  Saurav Kant, an alumnus of upGrad and IIIT-B's...  \n",
       "1  Kunal Shah's credit card bill payment platform...  "
      ]
     },
     "execution_count": 6,
     "metadata": {},
     "output_type": "execute_result"
    }
   ],
   "source": [
    "df2.head(2)"
   ]
  },
  {
   "cell_type": "code",
   "execution_count": 7,
   "metadata": {
    "execution": {
     "iopub.execute_input": "2020-10-06T15:25:38.340144Z",
     "iopub.status.busy": "2020-10-06T15:25:38.337639Z",
     "iopub.status.idle": "2020-10-06T15:25:38.385169Z",
     "shell.execute_reply": "2020-10-06T15:25:38.384361Z"
    },
    "papermill": {
     "duration": 0.12493,
     "end_time": "2020-10-06T15:25:38.385321",
     "exception": false,
     "start_time": "2020-10-06T15:25:38.260391",
     "status": "completed"
    },
    "tags": []
   },
   "outputs": [
    {
     "data": {
      "text/html": [
       "<div>\n",
       "<style scoped>\n",
       "    .dataframe tbody tr th:only-of-type {\n",
       "        vertical-align: middle;\n",
       "    }\n",
       "\n",
       "    .dataframe tbody tr th {\n",
       "        vertical-align: top;\n",
       "    }\n",
       "\n",
       "    .dataframe thead th {\n",
       "        text-align: right;\n",
       "    }\n",
       "</style>\n",
       "<table border=\"1\" class=\"dataframe\">\n",
       "  <thead>\n",
       "    <tr style=\"text-align: right;\">\n",
       "      <th></th>\n",
       "      <th>headlines</th>\n",
       "      <th>text</th>\n",
       "    </tr>\n",
       "  </thead>\n",
       "  <tbody>\n",
       "    <tr>\n",
       "      <th>0</th>\n",
       "      <td>Daman &amp; Diu revokes mandatory Rakshabandhan in...</td>\n",
       "      <td>Chhavi Tyagi 03 Aug 2017,Thursday http://www.h...</td>\n",
       "    </tr>\n",
       "    <tr>\n",
       "      <th>1</th>\n",
       "      <td>Malaika slams user who trolled her for 'divorc...</td>\n",
       "      <td>Daisy Mowke 03 Aug 2017,Thursday http://www.hi...</td>\n",
       "    </tr>\n",
       "    <tr>\n",
       "      <th>2</th>\n",
       "      <td>'Virgin' now corrected to 'Unmarried' in IGIMS...</td>\n",
       "      <td>Arshiya Chopra 03 Aug 2017,Thursday http://www...</td>\n",
       "    </tr>\n",
       "    <tr>\n",
       "      <th>3</th>\n",
       "      <td>Aaj aapne pakad liya: LeT man Dujana before be...</td>\n",
       "      <td>Sumedha Sehra 03 Aug 2017,Thursday http://indi...</td>\n",
       "    </tr>\n",
       "    <tr>\n",
       "      <th>4</th>\n",
       "      <td>Hotel staff to get training to spot signs of s...</td>\n",
       "      <td>Aarushi Maheshwari 03 Aug 2017,Thursday http:/...</td>\n",
       "    </tr>\n",
       "  </tbody>\n",
       "</table>\n",
       "</div>"
      ],
      "text/plain": [
       "                                           headlines  \\\n",
       "0  Daman & Diu revokes mandatory Rakshabandhan in...   \n",
       "1  Malaika slams user who trolled her for 'divorc...   \n",
       "2  'Virgin' now corrected to 'Unmarried' in IGIMS...   \n",
       "3  Aaj aapne pakad liya: LeT man Dujana before be...   \n",
       "4  Hotel staff to get training to spot signs of s...   \n",
       "\n",
       "                                                text  \n",
       "0  Chhavi Tyagi 03 Aug 2017,Thursday http://www.h...  \n",
       "1  Daisy Mowke 03 Aug 2017,Thursday http://www.hi...  \n",
       "2  Arshiya Chopra 03 Aug 2017,Thursday http://www...  \n",
       "3  Sumedha Sehra 03 Aug 2017,Thursday http://indi...  \n",
       "4  Aarushi Maheshwari 03 Aug 2017,Thursday http:/...  "
      ]
     },
     "execution_count": 7,
     "metadata": {},
     "output_type": "execute_result"
    }
   ],
   "source": [
    "# concatinating all columns (except summary) string (sep: ' ')\n",
    "df1['text'] = df1['author'].str.cat(df1['date'].str.cat(df1['read_more'].str.cat(df1['text'].str.cat(df1['ctext'], sep=' '), sep=' '), sep=' '), sep=' ')\n",
    "\n",
    "df1 = df1.drop(['author', 'date', 'read_more', 'ctext'], axis=1)\n",
    "df1.head()"
   ]
  },
  {
   "cell_type": "code",
   "execution_count": 8,
   "metadata": {
    "execution": {
     "iopub.execute_input": "2020-10-06T15:25:38.512181Z",
     "iopub.status.busy": "2020-10-06T15:25:38.510937Z",
     "iopub.status.idle": "2020-10-06T15:25:38.516091Z",
     "shell.execute_reply": "2020-10-06T15:25:38.515254Z"
    },
    "papermill": {
     "duration": 0.076335,
     "end_time": "2020-10-06T15:25:38.516223",
     "exception": false,
     "start_time": "2020-10-06T15:25:38.439888",
     "status": "completed"
    },
    "tags": []
   },
   "outputs": [
    {
     "data": {
      "text/html": [
       "<div>\n",
       "<style scoped>\n",
       "    .dataframe tbody tr th:only-of-type {\n",
       "        vertical-align: middle;\n",
       "    }\n",
       "\n",
       "    .dataframe tbody tr th {\n",
       "        vertical-align: top;\n",
       "    }\n",
       "\n",
       "    .dataframe thead th {\n",
       "        text-align: right;\n",
       "    }\n",
       "</style>\n",
       "<table border=\"1\" class=\"dataframe\">\n",
       "  <thead>\n",
       "    <tr style=\"text-align: right;\">\n",
       "      <th></th>\n",
       "      <th>summary</th>\n",
       "      <th>text</th>\n",
       "    </tr>\n",
       "  </thead>\n",
       "  <tbody>\n",
       "    <tr>\n",
       "      <th>0</th>\n",
       "      <td>Daman &amp; Diu revokes mandatory Rakshabandhan in...</td>\n",
       "      <td>Chhavi Tyagi 03 Aug 2017,Thursday http://www.h...</td>\n",
       "    </tr>\n",
       "    <tr>\n",
       "      <th>1</th>\n",
       "      <td>Malaika slams user who trolled her for 'divorc...</td>\n",
       "      <td>Daisy Mowke 03 Aug 2017,Thursday http://www.hi...</td>\n",
       "    </tr>\n",
       "    <tr>\n",
       "      <th>2</th>\n",
       "      <td>'Virgin' now corrected to 'Unmarried' in IGIMS...</td>\n",
       "      <td>Arshiya Chopra 03 Aug 2017,Thursday http://www...</td>\n",
       "    </tr>\n",
       "    <tr>\n",
       "      <th>3</th>\n",
       "      <td>Aaj aapne pakad liya: LeT man Dujana before be...</td>\n",
       "      <td>Sumedha Sehra 03 Aug 2017,Thursday http://indi...</td>\n",
       "    </tr>\n",
       "    <tr>\n",
       "      <th>4</th>\n",
       "      <td>Hotel staff to get training to spot signs of s...</td>\n",
       "      <td>Aarushi Maheshwari 03 Aug 2017,Thursday http:/...</td>\n",
       "    </tr>\n",
       "  </tbody>\n",
       "</table>\n",
       "</div>"
      ],
      "text/plain": [
       "                                             summary  \\\n",
       "0  Daman & Diu revokes mandatory Rakshabandhan in...   \n",
       "1  Malaika slams user who trolled her for 'divorc...   \n",
       "2  'Virgin' now corrected to 'Unmarried' in IGIMS...   \n",
       "3  Aaj aapne pakad liya: LeT man Dujana before be...   \n",
       "4  Hotel staff to get training to spot signs of s...   \n",
       "\n",
       "                                                text  \n",
       "0  Chhavi Tyagi 03 Aug 2017,Thursday http://www.h...  \n",
       "1  Daisy Mowke 03 Aug 2017,Thursday http://www.hi...  \n",
       "2  Arshiya Chopra 03 Aug 2017,Thursday http://www...  \n",
       "3  Sumedha Sehra 03 Aug 2017,Thursday http://indi...  \n",
       "4  Aarushi Maheshwari 03 Aug 2017,Thursday http:/...  "
      ]
     },
     "execution_count": 8,
     "metadata": {},
     "output_type": "execute_result"
    }
   ],
   "source": [
    "df = pd.concat([df1, df2], axis=0, ignore_index=True)\n",
    "df.columns = ['summary', 'text']\n",
    "df.head()"
   ]
  },
  {
   "cell_type": "markdown",
   "metadata": {
    "papermill": {
     "duration": 0.05255,
     "end_time": "2020-10-06T15:25:38.623181",
     "exception": false,
     "start_time": "2020-10-06T15:25:38.570631",
     "status": "completed"
    },
    "tags": []
   },
   "source": [
    "## **🛁 Data cleaning**"
   ]
  },
  {
   "cell_type": "code",
   "execution_count": 9,
   "metadata": {
    "execution": {
     "iopub.execute_input": "2020-10-06T15:25:38.743345Z",
     "iopub.status.busy": "2020-10-06T15:25:38.737934Z",
     "iopub.status.idle": "2020-10-06T15:25:38.756505Z",
     "shell.execute_reply": "2020-10-06T15:25:38.755678Z"
    },
    "papermill": {
     "duration": 0.081047,
     "end_time": "2020-10-06T15:25:38.756637",
     "exception": false,
     "start_time": "2020-10-06T15:25:38.675590",
     "status": "completed"
    },
    "tags": []
   },
   "outputs": [],
   "source": [
    "def clean_text(column):\n",
    "    for row in column:\n",
    "        row = re.sub(\"(\\\\t)\", ' ', str(row)).lower()\n",
    "        row = re.sub(\"(\\\\r)\", ' ', str(row)).lower()\n",
    "        row = re.sub(\"(\\\\n)\", ' ', str(row)).lower()\n",
    "\n",
    "        row = re.sub(\"(__+)\", ' ', str(row)).lower()\n",
    "        row = re.sub(\"(--+)\", ' ', str(row)).lower()\n",
    "        row = re.sub(\"(~~+)\", ' ', str(row)).lower()\n",
    "        row = re.sub(\"(\\+\\++)\", ' ', str(row)).lower()\n",
    "        row = re.sub(\"(\\.\\.+)\", ' ', str(row)).lower()\n",
    "\n",
    "        row = re.sub(r\"[<>()|&©ø\\[\\]\\'\\\",;?~*!]\", ' ', str(row)).lower()\n",
    "\n",
    "        row = re.sub(\"(mailto:)\", ' ', str(row)).lower()\n",
    "        row = re.sub(r\"(\\\\x9\\d)\", ' ', str(row)).lower()\n",
    "        row = re.sub(\"([iI][nN][cC]\\d+)\", 'INC_NUM', str(row)).lower()\n",
    "        row = re.sub(\"([cC][mM]\\d+)|([cC][hH][gG]\\d+)\", 'CM_NUM', str(row)).lower()\n",
    "\n",
    "        row = re.sub(\"(\\.\\s+)\", ' ', str(row)).lower()\n",
    "        row = re.sub(\"(\\-\\s+)\", ' ', str(row)).lower()\n",
    "        row = re.sub(\"(\\:\\s+)\", ' ', str(row)).lower()\n",
    "        row = re.sub(\"(\\s+.\\s+)\", ' ', str(row)).lower()\n",
    "\n",
    "        try:\n",
    "            url = re.search(r'((https*:\\/*)([^\\/\\s]+))(.[^\\s]+)', str(row))\n",
    "            repl_url = url.group(3)\n",
    "            row = re.sub(r'((https*:\\/*)([^\\/\\s]+))(.[^\\s]+)', repl_url, str(row))\n",
    "        except:\n",
    "            pass\n",
    "\n",
    "        row = re.sub(\"(\\s+)\", ' ', str(row)).lower()\n",
    "        row = re.sub(\"(\\s+.\\s+)\", ' ', str(row)).lower()\n",
    "\n",
    "        yield row\n",
    "\n",
    "\n",
    "text_cleaning = clean_text(df['text'])\n",
    "summary_cleaning = clean_text(df['summary'])"
   ]
  },
  {
   "cell_type": "code",
   "execution_count": 10,
   "metadata": {
    "execution": {
     "iopub.execute_input": "2020-10-06T15:25:38.871358Z",
     "iopub.status.busy": "2020-10-06T15:25:38.870547Z",
     "iopub.status.idle": "2020-10-06T15:34:04.601651Z",
     "shell.execute_reply": "2020-10-06T15:34:04.600908Z"
    },
    "papermill": {
     "duration": 505.791855,
     "end_time": "2020-10-06T15:34:04.601792",
     "exception": false,
     "start_time": "2020-10-06T15:25:38.809937",
     "status": "completed"
    },
    "tags": []
   },
   "outputs": [],
   "source": [
    "# disabling Named Entity Recognition for speed\n",
    "nlp = spacy.load('en', disable=['ner', 'parser'])\n",
    "\n",
    "# Taking advantage of spaCy .pipe() method to speed-up the cleaning process\n",
    "# If data loss seems to be happening(i.e len(text) = 50 instead of 75 etc etc) in this cell, decrease the batch_size parametre \n",
    "\n",
    "# Batch the data points into 5000 and run on all cores for faster preprocessing\n",
    "text = [str(doc) for doc in nlp.pipe(text_cleaning, batch_size=5000, n_threads=-1)]\n",
    "summary = ['_START_ '+ str(doc) + ' _END_' for doc in nlp.pipe(summary_cleaning, batch_size=5000, n_threads=-1)]"
   ]
  },
  {
   "cell_type": "code",
   "execution_count": 11,
   "metadata": {
    "execution": {
     "iopub.execute_input": "2020-10-06T15:34:04.716190Z",
     "iopub.status.busy": "2020-10-06T15:34:04.715190Z",
     "iopub.status.idle": "2020-10-06T15:34:04.719569Z",
     "shell.execute_reply": "2020-10-06T15:34:04.720154Z"
    },
    "papermill": {
     "duration": 0.065197,
     "end_time": "2020-10-06T15:34:04.720368",
     "exception": false,
     "start_time": "2020-10-06T15:34:04.655171",
     "status": "completed"
    },
    "tags": []
   },
   "outputs": [
    {
     "data": {
      "text/plain": [
       "'chhavi tyagi 03 aug 2017 thursday www.hindustantimes.com utm_source=inshorts utm_medium=referral utm_campaign=fullarticle the administration of union territory daman and diu has revoked its order that made it compulsory for women to tie rakhis to their male colleagues on the occasion of rakshabandhan on august the administration was forced to withdraw the decision within 24 hours of issuing the circular after it received flak from employees and was slammed on social media the daman and diu administration on wednesday withdrew circular that asked women staff to tie rakhis on male colleagues after the order triggered backlash from employees and was ripped apart on social media.the union territory administration was forced to retreat within 24 hours of issuing the circular that made it compulsory for its staff to celebrate rakshabandhan at workplace it has been decided to celebrate the festival of rakshabandhan on august in this connection all offices/ departments shall remain open and celebrate the festival collectively at suitable time wherein all the lady staff shall tie rakhis to their colleagues the order issued on august by gurpreet singh deputy secretary personnel had said.to ensure that no one skipped office an attendance report was to be sent to the government the next evening.the two notifications one mandating the celebration of rakshabandhan left and the other withdrawing the mandate right were issued by the daman and diu administration day apart the circular was withdrawn through one-line order issued late in the evening by the ut department of personnel and administrative reforms the circular is ridiculous there are sensitivities involved how can the government dictate who should tie rakhi to we should maintain the professionalism of workplace an official told hindustan times earlier in the day she refused to be identified.the notice was issued on daman and diu administrator and former gujarat home minister praful kodabhai patel direction sources said.rakshabandhan celebration of the bond between brothers and sisters is one of several hindu festivities and rituals that are no longer confined of private family affairs but have become tools to push politic al ideologies.in 2014 the year bjp stormed to power at the centre rashtriya swayamsevak sangh rss chief mohan bhagwat said the festival had national significance and should be celebrated widely to protect hindu culture and live by the values enshrined in it the rss is the ideological parent of the ruling bjp.last year women ministers in the modi government went to the border areas to celebrate the festival with soldiers year before all cabinet ministers were asked to go to their constituencies for the festival.'"
      ]
     },
     "execution_count": 11,
     "metadata": {},
     "output_type": "execute_result"
    }
   ],
   "source": [
    "text[0]"
   ]
  },
  {
   "cell_type": "code",
   "execution_count": 12,
   "metadata": {
    "execution": {
     "iopub.execute_input": "2020-10-06T15:34:04.834239Z",
     "iopub.status.busy": "2020-10-06T15:34:04.833092Z",
     "iopub.status.idle": "2020-10-06T15:34:04.837742Z",
     "shell.execute_reply": "2020-10-06T15:34:04.836959Z"
    },
    "papermill": {
     "duration": 0.063676,
     "end_time": "2020-10-06T15:34:04.837871",
     "exception": false,
     "start_time": "2020-10-06T15:34:04.774195",
     "status": "completed"
    },
    "tags": []
   },
   "outputs": [
    {
     "data": {
      "text/plain": [
       "'_START_ daman diu revokes mandatory rakshabandhan in offices order _END_'"
      ]
     },
     "execution_count": 12,
     "metadata": {},
     "output_type": "execute_result"
    }
   ],
   "source": [
    "summary[0]"
   ]
  },
  {
   "cell_type": "code",
   "execution_count": 13,
   "metadata": {
    "execution": {
     "iopub.execute_input": "2020-10-06T15:34:04.975128Z",
     "iopub.status.busy": "2020-10-06T15:34:04.973964Z",
     "iopub.status.idle": "2020-10-06T15:34:05.005518Z",
     "shell.execute_reply": "2020-10-06T15:34:05.004755Z"
    },
    "papermill": {
     "duration": 0.113239,
     "end_time": "2020-10-06T15:34:05.005646",
     "exception": false,
     "start_time": "2020-10-06T15:34:04.892407",
     "status": "completed"
    },
    "tags": []
   },
   "outputs": [
    {
     "data": {
      "text/html": [
       "<div>\n",
       "<style scoped>\n",
       "    .dataframe tbody tr th:only-of-type {\n",
       "        vertical-align: middle;\n",
       "    }\n",
       "\n",
       "    .dataframe tbody tr th {\n",
       "        vertical-align: top;\n",
       "    }\n",
       "\n",
       "    .dataframe thead th {\n",
       "        text-align: right;\n",
       "    }\n",
       "</style>\n",
       "<table border=\"1\" class=\"dataframe\">\n",
       "  <thead>\n",
       "    <tr style=\"text-align: right;\">\n",
       "      <th></th>\n",
       "      <th>text</th>\n",
       "      <th>summary</th>\n",
       "    </tr>\n",
       "  </thead>\n",
       "  <tbody>\n",
       "    <tr>\n",
       "      <th>0</th>\n",
       "      <td>chhavi tyagi 03 aug 2017 thursday www.hindusta...</td>\n",
       "      <td>_START_ daman diu revokes mandatory rakshaband...</td>\n",
       "    </tr>\n",
       "    <tr>\n",
       "      <th>1</th>\n",
       "      <td>daisy mowke 03 aug 2017 thursday www.hindustan...</td>\n",
       "      <td>_START_ malaika slams user who trolled her for...</td>\n",
       "    </tr>\n",
       "    <tr>\n",
       "      <th>2</th>\n",
       "      <td>arshiya chopra 03 aug 2017 thursday www.hindus...</td>\n",
       "      <td>_START_  virgin now corrected to unmarried in ...</td>\n",
       "    </tr>\n",
       "    <tr>\n",
       "      <th>3</th>\n",
       "      <td>sumedha sehra 03 aug 2017 thursday indiatoday....</td>\n",
       "      <td>_START_ aaj aapne pakad liya let man dujana be...</td>\n",
       "    </tr>\n",
       "    <tr>\n",
       "      <th>4</th>\n",
       "      <td>aarushi maheshwari 03 aug 2017 thursday indiat...</td>\n",
       "      <td>_START_ hotel staff to get training to spot si...</td>\n",
       "    </tr>\n",
       "  </tbody>\n",
       "</table>\n",
       "</div>"
      ],
      "text/plain": [
       "                                                text  \\\n",
       "0  chhavi tyagi 03 aug 2017 thursday www.hindusta...   \n",
       "1  daisy mowke 03 aug 2017 thursday www.hindustan...   \n",
       "2  arshiya chopra 03 aug 2017 thursday www.hindus...   \n",
       "3  sumedha sehra 03 aug 2017 thursday indiatoday....   \n",
       "4  aarushi maheshwari 03 aug 2017 thursday indiat...   \n",
       "\n",
       "                                             summary  \n",
       "0  _START_ daman diu revokes mandatory rakshaband...  \n",
       "1  _START_ malaika slams user who trolled her for...  \n",
       "2  _START_  virgin now corrected to unmarried in ...  \n",
       "3  _START_ aaj aapne pakad liya let man dujana be...  \n",
       "4  _START_ hotel staff to get training to spot si...  "
      ]
     },
     "execution_count": 13,
     "metadata": {},
     "output_type": "execute_result"
    }
   ],
   "source": [
    "df = pd.DataFrame({'text': text, 'summary': summary})\n",
    "df.head()"
   ]
  },
  {
   "cell_type": "code",
   "execution_count": 14,
   "metadata": {
    "execution": {
     "iopub.execute_input": "2020-10-06T15:34:05.121638Z",
     "iopub.status.busy": "2020-10-06T15:34:05.120821Z",
     "iopub.status.idle": "2020-10-06T15:34:07.746892Z",
     "shell.execute_reply": "2020-10-06T15:34:07.746194Z"
    },
    "papermill": {
     "duration": 2.686056,
     "end_time": "2020-10-06T15:34:07.747027",
     "exception": false,
     "start_time": "2020-10-06T15:34:05.060971",
     "status": "completed"
    },
    "tags": []
   },
   "outputs": [],
   "source": [
    "# saving the cleaned data\n",
    "df.to_csv('cleaned_data.csv')"
   ]
  },
  {
   "cell_type": "markdown",
   "metadata": {
    "papermill": {
     "duration": 0.054704,
     "end_time": "2020-10-06T15:34:07.857650",
     "exception": false,
     "start_time": "2020-10-06T15:34:07.802946",
     "status": "completed"
    },
    "tags": []
   },
   "source": [
    "## **🔦 Data analysis**"
   ]
  },
  {
   "cell_type": "code",
   "execution_count": 15,
   "metadata": {
    "execution": {
     "iopub.execute_input": "2020-10-06T15:34:07.982174Z",
     "iopub.status.busy": "2020-10-06T15:34:07.976883Z",
     "iopub.status.idle": "2020-10-06T15:34:09.326882Z",
     "shell.execute_reply": "2020-10-06T15:34:09.326146Z"
    },
    "papermill": {
     "duration": 1.414359,
     "end_time": "2020-10-06T15:34:09.327029",
     "exception": false,
     "start_time": "2020-10-06T15:34:07.912670",
     "status": "completed"
    },
    "tags": []
   },
   "outputs": [
    {
     "data": {
      "image/png": "[encoded data removed]",
      "text/plain": [
       "<Figure size 864x288 with 2 Axes>"
      ]
     },
     "metadata": {
      "needs_background": "light"
     },
     "output_type": "display_data"
    }
   ],
   "source": [
    "text_count = [len(sentence.split()) for sentence in df.text]\n",
    "summary_count = [len(sentence.split()) for sentence in df.summary]\n",
    "\n",
    "pd.DataFrame({'text': text_count, 'summary': summary_count}).hist(\n",
    "    bins=5, figsize=(12, 4), range=[0, 200]\n",
    ")\n",
    "plt.show()"
   ]
  },
  {
   "cell_type": "code",
   "execution_count": 16,
   "metadata": {
    "execution": {
     "iopub.execute_input": "2020-10-06T15:34:09.467686Z",
     "iopub.status.busy": "2020-10-06T15:34:09.462492Z",
     "iopub.status.idle": "2020-10-06T15:34:10.224841Z",
     "shell.execute_reply": "2020-10-06T15:34:10.223631Z"
    },
    "papermill": {
     "duration": 0.834407,
     "end_time": "2020-10-06T15:34:10.225037",
     "exception": false,
     "start_time": "2020-10-06T15:34:09.390630",
     "status": "completed"
    },
    "tags": []
   },
   "outputs": [
    {
     "name": "stdout",
     "output_type": "stream",
     "text": [
      "1.0\n",
      "0.96\n"
     ]
    }
   ],
   "source": [
    "def get_word_percent(column, limit):\n",
    "    count = 0\n",
    "    for sentence in column:\n",
    "        if len(sentence.split()) <= limit:\n",
    "            count += 1\n",
    "\n",
    "    return round(count/len(column), 2)\n",
    "\n",
    "\n",
    "# Check how many % of summary have 0-15 words\n",
    "print(get_word_percent(df.summary, 15))\n",
    "\n",
    "# Check how many % of summary have 0-80 words\n",
    "print(get_word_percent(df.text, 80))"
   ]
  },
  {
   "cell_type": "code",
   "execution_count": 17,
   "metadata": {
    "execution": {
     "iopub.execute_input": "2020-10-06T15:34:10.346801Z",
     "iopub.status.busy": "2020-10-06T15:34:10.345929Z",
     "iopub.status.idle": "2020-10-06T15:34:10.349762Z",
     "shell.execute_reply": "2020-10-06T15:34:10.349033Z"
    },
    "papermill": {
     "duration": 0.066317,
     "end_time": "2020-10-06T15:34:10.349898",
     "exception": false,
     "start_time": "2020-10-06T15:34:10.283581",
     "status": "completed"
    },
    "tags": []
   },
   "outputs": [],
   "source": [
    "max_text_len = 80\n",
    "max_summary_len = 15"
   ]
  },
  {
   "cell_type": "code",
   "execution_count": 18,
   "metadata": {
    "execution": {
     "iopub.execute_input": "2020-10-06T15:34:10.476492Z",
     "iopub.status.busy": "2020-10-06T15:34:10.475276Z",
     "iopub.status.idle": "2020-10-06T15:34:11.304756Z",
     "shell.execute_reply": "2020-10-06T15:34:11.304039Z"
    },
    "papermill": {
     "duration": 0.896521,
     "end_time": "2020-10-06T15:34:11.304897",
     "exception": false,
     "start_time": "2020-10-06T15:34:10.408376",
     "status": "completed"
    },
    "tags": []
   },
   "outputs": [],
   "source": [
    "cleaned_text = np.array(df['text'])\n",
    "cleaned_summary = np.array(df['summary'])\n",
    "\n",
    "# select the summary and text between their defined respective max lens\n",
    "short_text = []\n",
    "short_summary = []\n",
    "\n",
    "for i in range(len(cleaned_text)):\n",
    "    if len(cleaned_text[i].split()) <= max_text_len and len(cleaned_summary[i].split()) <= max_summary_len:\n",
    "        short_text.append(cleaned_text[i])\n",
    "        short_summary.append(cleaned_summary[i])\n",
    "\n",
    "df = pd.DataFrame({'text': short_text, 'summary': short_summary})"
   ]
  },
  {
   "cell_type": "code",
   "execution_count": 19,
   "metadata": {
    "execution": {
     "iopub.execute_input": "2020-10-06T15:34:11.435037Z",
     "iopub.status.busy": "2020-10-06T15:34:11.427933Z",
     "iopub.status.idle": "2020-10-06T15:34:11.508863Z",
     "shell.execute_reply": "2020-10-06T15:34:11.509449Z"
    },
    "papermill": {
     "duration": 0.146535,
     "end_time": "2020-10-06T15:34:11.509618",
     "exception": false,
     "start_time": "2020-10-06T15:34:11.363083",
     "status": "completed"
    },
    "tags": []
   },
   "outputs": [
    {
     "data": {
      "text/html": [
       "<div>\n",
       "<style scoped>\n",
       "    .dataframe tbody tr th:only-of-type {\n",
       "        vertical-align: middle;\n",
       "    }\n",
       "\n",
       "    .dataframe tbody tr th {\n",
       "        vertical-align: top;\n",
       "    }\n",
       "\n",
       "    .dataframe thead th {\n",
       "        text-align: right;\n",
       "    }\n",
       "</style>\n",
       "<table border=\"1\" class=\"dataframe\">\n",
       "  <thead>\n",
       "    <tr style=\"text-align: right;\">\n",
       "      <th></th>\n",
       "      <th>text</th>\n",
       "      <th>summary</th>\n",
       "    </tr>\n",
       "  </thead>\n",
       "  <tbody>\n",
       "    <tr>\n",
       "      <th>0</th>\n",
       "      <td>nan</td>\n",
       "      <td>sostok _START_ air india current business is n...</td>\n",
       "    </tr>\n",
       "    <tr>\n",
       "      <th>1</th>\n",
       "      <td>nan</td>\n",
       "      <td>sostok _START_ delhi woman alleges in-laws set...</td>\n",
       "    </tr>\n",
       "    <tr>\n",
       "      <th>2</th>\n",
       "      <td>nan</td>\n",
       "      <td>sostok _START_ people count my failures don sa...</td>\n",
       "    </tr>\n",
       "    <tr>\n",
       "      <th>3</th>\n",
       "      <td>nan</td>\n",
       "      <td>sostok _START_ us mandates explosive trace che...</td>\n",
       "    </tr>\n",
       "    <tr>\n",
       "      <th>4</th>\n",
       "      <td>nan</td>\n",
       "      <td>sostok _START_ 16-year-old golfer diksha dagar...</td>\n",
       "    </tr>\n",
       "  </tbody>\n",
       "</table>\n",
       "</div>"
      ],
      "text/plain": [
       "  text                                            summary\n",
       "0  nan  sostok _START_ air india current business is n...\n",
       "1  nan  sostok _START_ delhi woman alleges in-laws set...\n",
       "2  nan  sostok _START_ people count my failures don sa...\n",
       "3  nan  sostok _START_ us mandates explosive trace che...\n",
       "4  nan  sostok _START_ 16-year-old golfer diksha dagar..."
      ]
     },
     "execution_count": 19,
     "metadata": {},
     "output_type": "execute_result"
    }
   ],
   "source": [
    "start_token = 'sostok'\n",
    "end_token = 'eostok'\n",
    "\n",
    "# adding start & end token in the start & end of each summary\n",
    "df.summary = df.summary.apply(lambda x: f'{start_token} {x} {end_token}')\n",
    "df.head()"
   ]
  },
  {
   "cell_type": "markdown",
   "metadata": {
    "papermill": {
     "duration": 0.058296,
     "end_time": "2020-10-06T15:34:11.626429",
     "exception": false,
     "start_time": "2020-10-06T15:34:11.568133",
     "status": "completed"
    },
    "tags": []
   },
   "source": [
    "> **sostok** & **eostok** tokens are for us to know where to start & stop the summary because using _START_ & _END_, tf's tokenizer with convert them to **start** & **end** respectively. \n",
    "\n",
    "> So while decoding the summary sequences of sentences like **'everything is going to end in 2012'** if use _START_ & _END_ tokens (which will make the sentence like **'start everything is going to end in 2012 end'** this) whome tf's tokenizer will convert to start and end then we will stop decoding as we hit first **end**, so this is bad and therefore **sostok** & **eostok** these tokens are used.\n",
    "\n",
    "> So we can just use these **sostok** & **eostok** instead of _START_ & _END_, well you can but I tried both ways and while not using these _START_ & _END_ I was getting undesired results 🤯 😅"
   ]
  },
  {
   "cell_type": "markdown",
   "metadata": {
    "papermill": {
     "duration": 0.058159,
     "end_time": "2020-10-06T15:34:11.742999",
     "exception": false,
     "start_time": "2020-10-06T15:34:11.684840",
     "status": "completed"
    },
    "tags": []
   },
   "source": [
    "## **🤹‍♂️ Data preprocessing**"
   ]
  },
  {
   "cell_type": "code",
   "execution_count": 20,
   "metadata": {
    "execution": {
     "iopub.execute_input": "2020-10-06T15:34:11.868581Z",
     "iopub.status.busy": "2020-10-06T15:34:11.866490Z",
     "iopub.status.idle": "2020-10-06T15:34:11.889640Z",
     "shell.execute_reply": "2020-10-06T15:34:11.888887Z"
    },
    "papermill": {
     "duration": 0.087972,
     "end_time": "2020-10-06T15:34:11.889762",
     "exception": false,
     "start_time": "2020-10-06T15:34:11.801790",
     "status": "completed"
    },
    "tags": []
   },
   "outputs": [],
   "source": [
    "x_train, x_val, y_train, y_val = train_test_split(\n",
    "    np.array(df['text']), np.array(df['summary']),\n",
    "    test_size=0.1, random_state=1, shuffle=True\n",
    ")"
   ]
  },
  {
   "cell_type": "code",
   "execution_count": 21,
   "metadata": {
    "execution": {
     "iopub.execute_input": "2020-10-06T15:34:12.017464Z",
     "iopub.status.busy": "2020-10-06T15:34:12.016411Z",
     "iopub.status.idle": "2020-10-06T15:34:12.019936Z",
     "shell.execute_reply": "2020-10-06T15:34:12.019177Z"
    },
    "papermill": {
     "duration": 0.071571,
     "end_time": "2020-10-06T15:34:12.020055",
     "exception": false,
     "start_time": "2020-10-06T15:34:11.948484",
     "status": "completed"
    },
    "tags": []
   },
   "outputs": [],
   "source": [
    "# rare word analysis\n",
    "def get_rare_word_percent(tokenizer, threshold):\n",
    "    # threshold: if the word's occurrence is less than this then it's rare word\n",
    "\n",
    "    count = 0\n",
    "    total_count = 0\n",
    "    frequency = 0\n",
    "    total_frequency = 0\n",
    "\n",
    "    for key, value in tokenizer.word_counts.items():\n",
    "        total_count += 1\n",
    "        total_frequency += value\n",
    "        if value < threshold:\n",
    "            count += 1\n",
    "            frequency += value\n",
    "\n",
    "    return {\n",
    "        'percent': round((count/total_count)*100, 2),\n",
    "        'total_coverage': round(frequency/total_frequency*100, 2),\n",
    "        'count': count,\n",
    "        'total_count': total_count\n",
    "    }"
   ]
  },
  {
   "cell_type": "markdown",
   "metadata": {
    "papermill": {
     "duration": 0.058446,
     "end_time": "2020-10-06T15:34:12.137626",
     "exception": false,
     "start_time": "2020-10-06T15:34:12.079180",
     "status": "completed"
    },
    "tags": []
   },
   "source": [
    "#### **🍔 X's tokenization**"
   ]
  },
  {
   "cell_type": "code",
   "execution_count": 22,
   "metadata": {
    "execution": {
     "iopub.execute_input": "2020-10-06T15:34:12.301875Z",
     "iopub.status.busy": "2020-10-06T15:34:12.285847Z",
     "iopub.status.idle": "2020-10-06T15:34:19.551452Z",
     "shell.execute_reply": "2020-10-06T15:34:19.550817Z"
    },
    "papermill": {
     "duration": 7.355337,
     "end_time": "2020-10-06T15:34:19.551593",
     "exception": false,
     "start_time": "2020-10-06T15:34:12.196256",
     "status": "completed"
    },
    "tags": []
   },
   "outputs": [
    {
     "name": "stdout",
     "output_type": "stream",
     "text": [
      "{'percent': 57.91, 'total_coverage': 1.34, 'count': 45874, 'total_count': 79215}\n"
     ]
    }
   ],
   "source": [
    "x_tokenizer = Tokenizer()\n",
    "x_tokenizer.fit_on_texts(list(x_train))\n",
    "\n",
    "x_tokens_data = get_rare_word_percent(x_tokenizer, 4)\n",
    "print(x_tokens_data)"
   ]
  },
  {
   "cell_type": "code",
   "execution_count": 23,
   "metadata": {
    "execution": {
     "iopub.execute_input": "2020-10-06T15:34:19.703782Z",
     "iopub.status.busy": "2020-10-06T15:34:19.698182Z",
     "iopub.status.idle": "2020-10-06T15:34:26.847252Z",
     "shell.execute_reply": "2020-10-06T15:34:26.846506Z"
    },
    "papermill": {
     "duration": 7.236268,
     "end_time": "2020-10-06T15:34:26.847400",
     "exception": false,
     "start_time": "2020-10-06T15:34:19.611132",
     "status": "completed"
    },
    "tags": []
   },
   "outputs": [],
   "source": [
    "# 🔥 to increase computation speed use this\n",
    "# x_tokenizer = Tokenizer(num_words=x_tokens_data['total_count'] - x_tokens_data['count'])\n",
    "\n",
    "# else use this\n",
    "x_tokenizer = Tokenizer()\n",
    "\n",
    "x_tokenizer.fit_on_texts(list(x_train))"
   ]
  },
  {
   "cell_type": "code",
   "execution_count": 24,
   "metadata": {
    "execution": {
     "iopub.execute_input": "2020-10-06T15:34:26.972907Z",
     "iopub.status.busy": "2020-10-06T15:34:26.972064Z",
     "iopub.status.idle": "2020-10-06T15:34:27.107433Z",
     "shell.execute_reply": "2020-10-06T15:34:27.106541Z"
    },
    "papermill": {
     "duration": 0.200651,
     "end_time": "2020-10-06T15:34:27.107571",
     "exception": false,
     "start_time": "2020-10-06T15:34:26.906920",
     "status": "completed"
    },
    "tags": []
   },
   "outputs": [],
   "source": [
    "# save tokenizer\n",
    "with open('x_tokenizer', 'wb') as f:\n",
    "    pickle.dump(x_tokenizer, f, protocol=pickle.HIGHEST_PROTOCOL)"
   ]
  },
  {
   "cell_type": "code",
   "execution_count": 25,
   "metadata": {
    "execution": {
     "iopub.execute_input": "2020-10-06T15:34:27.281663Z",
     "iopub.status.busy": "2020-10-06T15:34:27.276718Z",
     "iopub.status.idle": "2020-10-06T15:34:35.520100Z",
     "shell.execute_reply": "2020-10-06T15:34:35.519324Z"
    },
    "papermill": {
     "duration": 8.351658,
     "end_time": "2020-10-06T15:34:35.520228",
     "exception": false,
     "start_time": "2020-10-06T15:34:27.168570",
     "status": "completed"
    },
    "tags": []
   },
   "outputs": [
    {
     "name": "stdout",
     "output_type": "stream",
     "text": [
      "79216\n"
     ]
    }
   ],
   "source": [
    "# one-hot-encoding\n",
    "x_train_sequence = x_tokenizer.texts_to_sequences(x_train)\n",
    "x_val_sequence = x_tokenizer.texts_to_sequences(x_val)\n",
    "\n",
    "# padding upto max_text_len\n",
    "x_train_padded = pad_sequences(x_train_sequence, maxlen=max_text_len, padding='post')\n",
    "x_val_padded = pad_sequences(x_val_sequence, maxlen=max_text_len, padding='post')\n",
    "\n",
    "# if you're using num_words parameter in Tokenizer then use this\n",
    "x_vocab_size = len(x_tokenizer.word_index) + 1\n",
    "\n",
    "# else use this\n",
    "# x_vocab_size = x_tokenizer.num_words + 1\n",
    "\n",
    "print(x_vocab_size)"
   ]
  },
  {
   "cell_type": "markdown",
   "metadata": {
    "papermill": {
     "duration": 0.059993,
     "end_time": "2020-10-06T15:34:35.640870",
     "exception": false,
     "start_time": "2020-10-06T15:34:35.580877",
     "status": "completed"
    },
    "tags": []
   },
   "source": [
    "#### **🍕 Y's tokenization**"
   ]
  },
  {
   "cell_type": "code",
   "execution_count": 26,
   "metadata": {
    "execution": {
     "iopub.execute_input": "2020-10-06T15:34:36.097114Z",
     "iopub.status.busy": "2020-10-06T15:34:36.060515Z",
     "iopub.status.idle": "2020-10-06T15:34:38.524521Z",
     "shell.execute_reply": "2020-10-06T15:34:38.523687Z"
    },
    "papermill": {
     "duration": 2.823524,
     "end_time": "2020-10-06T15:34:38.524694",
     "exception": false,
     "start_time": "2020-10-06T15:34:35.701170",
     "status": "completed"
    },
    "tags": []
   },
   "outputs": [
    {
     "name": "stdout",
     "output_type": "stream",
     "text": [
      "{'percent': 66.3, 'total_coverage': 3.56, 'count': 22775, 'total_count': 34349}\n"
     ]
    }
   ],
   "source": [
    "y_tokenizer = Tokenizer()\n",
    "y_tokenizer.fit_on_texts(list(y_train))\n",
    "\n",
    "y_tokens_data = get_rare_word_percent(y_tokenizer, 6)\n",
    "print(y_tokens_data)"
   ]
  },
  {
   "cell_type": "code",
   "execution_count": 27,
   "metadata": {
    "execution": {
     "iopub.execute_input": "2020-10-06T15:34:38.726881Z",
     "iopub.status.busy": "2020-10-06T15:34:38.695362Z",
     "iopub.status.idle": "2020-10-06T15:34:41.112874Z",
     "shell.execute_reply": "2020-10-06T15:34:41.112036Z"
    },
    "papermill": {
     "duration": 2.52601,
     "end_time": "2020-10-06T15:34:41.113007",
     "exception": false,
     "start_time": "2020-10-06T15:34:38.586997",
     "status": "completed"
    },
    "tags": []
   },
   "outputs": [],
   "source": [
    "# 🔥 to increase computation speed use this\n",
    "# y_tokenizer = Tokenizer(num_words=y_tokens_data['total_count'] - y_tokens_data['count'])\n",
    "\n",
    "# else use this\n",
    "y_tokenizer = Tokenizer()\n",
    "\n",
    "y_tokenizer.fit_on_texts(list(y_train))"
   ]
  },
  {
   "cell_type": "code",
   "execution_count": 28,
   "metadata": {
    "execution": {
     "iopub.execute_input": "2020-10-06T15:34:41.251956Z",
     "iopub.status.busy": "2020-10-06T15:34:41.243525Z",
     "iopub.status.idle": "2020-10-06T15:34:41.298421Z",
     "shell.execute_reply": "2020-10-06T15:34:41.297585Z"
    },
    "papermill": {
     "duration": 0.123417,
     "end_time": "2020-10-06T15:34:41.298565",
     "exception": false,
     "start_time": "2020-10-06T15:34:41.175148",
     "status": "completed"
    },
    "tags": []
   },
   "outputs": [],
   "source": [
    "# save tokenizer\n",
    "with open('y_tokenizer', 'wb') as f:\n",
    "    pickle.dump(y_tokenizer, f, protocol=pickle.HIGHEST_PROTOCOL)"
   ]
  },
  {
   "cell_type": "code",
   "execution_count": 29,
   "metadata": {
    "execution": {
     "iopub.execute_input": "2020-10-06T15:34:41.484108Z",
     "iopub.status.busy": "2020-10-06T15:34:41.463481Z",
     "iopub.status.idle": "2020-10-06T15:34:44.567731Z",
     "shell.execute_reply": "2020-10-06T15:34:44.566707Z"
    },
    "papermill": {
     "duration": 3.207046,
     "end_time": "2020-10-06T15:34:44.567901",
     "exception": false,
     "start_time": "2020-10-06T15:34:41.360855",
     "status": "completed"
    },
    "tags": []
   },
   "outputs": [
    {
     "name": "stdout",
     "output_type": "stream",
     "text": [
      "34350\n"
     ]
    }
   ],
   "source": [
    "# one-hot-encoding\n",
    "y_train_sequence = y_tokenizer.texts_to_sequences(y_train)\n",
    "y_val_sequence = y_tokenizer.texts_to_sequences(y_val)\n",
    "\n",
    "# padding upto max_summary_len\n",
    "y_train_padded = pad_sequences(y_train_sequence, maxlen=max_summary_len, padding='post')\n",
    "y_val_padded = pad_sequences(y_val_sequence, maxlen=max_summary_len, padding='post')\n",
    "\n",
    "# if you're using num_words parameter in Tokenizer then use this\n",
    "y_vocab_size = len(y_tokenizer.word_index) + 1\n",
    "\n",
    "# else use this\n",
    "# y_vocab_size = y_tokenizer.num_words + 1\n",
    "\n",
    "print(y_vocab_size)"
   ]
  },
  {
   "cell_type": "code",
   "execution_count": 30,
   "metadata": {
    "execution": {
     "iopub.execute_input": "2020-10-06T15:34:44.734638Z",
     "iopub.status.busy": "2020-10-06T15:34:44.713769Z",
     "iopub.status.idle": "2020-10-06T15:34:49.818127Z",
     "shell.execute_reply": "2020-10-06T15:34:49.818707Z"
    },
    "papermill": {
     "duration": 5.187702,
     "end_time": "2020-10-06T15:34:49.818905",
     "exception": false,
     "start_time": "2020-10-06T15:34:44.631203",
     "status": "completed"
    },
    "tags": []
   },
   "outputs": [],
   "source": [
    "# removing summary which only has sostok & eostok\n",
    "def remove_indexes(summary_array):\n",
    "    remove_indexes = []\n",
    "    for i in range(len(summary_array)):\n",
    "        count = 0\n",
    "        for j in summary_array[i]:\n",
    "            if j != 0:\n",
    "                count += 1\n",
    "        if count == 2:\n",
    "            remove_indexes.append(i)\n",
    "    return remove_indexes\n",
    "\n",
    "\n",
    "remove_train_indexes = remove_indexes(y_train_padded)\n",
    "remove_val_indexes = remove_indexes(y_val_padded)"
   ]
  },
  {
   "cell_type": "code",
   "execution_count": 31,
   "metadata": {
    "execution": {
     "iopub.execute_input": "2020-10-06T15:34:50.004051Z",
     "iopub.status.busy": "2020-10-06T15:34:50.002897Z",
     "iopub.status.idle": "2020-10-06T15:34:50.017913Z",
     "shell.execute_reply": "2020-10-06T15:34:50.017245Z"
    },
    "papermill": {
     "duration": 0.084166,
     "end_time": "2020-10-06T15:34:50.018064",
     "exception": false,
     "start_time": "2020-10-06T15:34:49.933898",
     "status": "completed"
    },
    "tags": []
   },
   "outputs": [],
   "source": [
    "y_train_padded = np.delete(y_train_padded, remove_train_indexes, axis=0)\n",
    "x_train_padded = np.delete(x_train_padded, remove_train_indexes, axis=0)\n",
    "\n",
    "y_val_padded = np.delete(y_val_padded, remove_val_indexes, axis=0)\n",
    "x_val_padded = np.delete(x_val_padded, remove_val_indexes, axis=0)"
   ]
  },
  {
   "cell_type": "markdown",
   "metadata": {
    "papermill": {
     "duration": 0.063309,
     "end_time": "2020-10-06T15:34:50.143946",
     "exception": false,
     "start_time": "2020-10-06T15:34:50.080637",
     "status": "completed"
    },
    "tags": []
   },
   "source": [
    "## **👯‍♀️ Modelling**"
   ]
  },
  {
   "cell_type": "code",
   "execution_count": 32,
   "metadata": {
    "execution": {
     "iopub.execute_input": "2020-10-06T15:34:50.289076Z",
     "iopub.status.busy": "2020-10-06T15:34:50.288036Z",
     "iopub.status.idle": "2020-10-06T15:34:50.292077Z",
     "shell.execute_reply": "2020-10-06T15:34:50.291328Z"
    },
    "papermill": {
     "duration": 0.084618,
     "end_time": "2020-10-06T15:34:50.292200",
     "exception": false,
     "start_time": "2020-10-06T15:34:50.207582",
     "status": "completed"
    },
    "tags": []
   },
   "outputs": [],
   "source": [
    "latent_dim = 240\n",
    "embedding_dim = 240"
   ]
  },
  {
   "cell_type": "code",
   "execution_count": 33,
   "metadata": {
    "execution": {
     "iopub.execute_input": "2020-10-06T15:34:50.426875Z",
     "iopub.status.busy": "2020-10-06T15:34:50.425853Z",
     "iopub.status.idle": "2020-10-06T15:34:50.448009Z",
     "shell.execute_reply": "2020-10-06T15:34:50.447097Z"
    },
    "papermill": {
     "duration": 0.090478,
     "end_time": "2020-10-06T15:34:50.448177",
     "exception": false,
     "start_time": "2020-10-06T15:34:50.357699",
     "status": "completed"
    },
    "tags": []
   },
   "outputs": [],
   "source": [
    "tf.keras.backend.clear_session()"
   ]
  },
  {
   "cell_type": "code",
   "execution_count": 34,
   "metadata": {
    "execution": {
     "iopub.execute_input": "2020-10-06T15:34:50.699697Z",
     "iopub.status.busy": "2020-10-06T15:34:50.600641Z",
     "iopub.status.idle": "2020-10-06T15:34:55.711026Z",
     "shell.execute_reply": "2020-10-06T15:34:55.710199Z"
    },
    "papermill": {
     "duration": 5.194663,
     "end_time": "2020-10-06T15:34:55.711156",
     "exception": false,
     "start_time": "2020-10-06T15:34:50.516493",
     "status": "completed"
    },
    "tags": []
   },
   "outputs": [],
   "source": [
    "# Using TPU\n",
    "\n",
    "# detect and init the TPU\n",
    "tpu = tf.distribute.cluster_resolver.TPUClusterResolver()\n",
    "tf.config.experimental_connect_to_cluster(tpu)\n",
    "tf.tpu.experimental.initialize_tpu_system(tpu)\n",
    "\n",
    "# instantiate a distribution strategy\n",
    "tpu_strategy = tf.distribute.experimental.TPUStrategy(tpu)"
   ]
  },
  {
   "cell_type": "code",
   "execution_count": 35,
   "metadata": {
    "execution": {
     "iopub.execute_input": "2020-10-06T15:34:55.858122Z",
     "iopub.status.busy": "2020-10-06T15:34:55.857003Z",
     "iopub.status.idle": "2020-10-06T15:34:55.860847Z",
     "shell.execute_reply": "2020-10-06T15:34:55.860171Z"
    },
    "papermill": {
     "duration": 0.086725,
     "end_time": "2020-10-06T15:34:55.860994",
     "exception": false,
     "start_time": "2020-10-06T15:34:55.774269",
     "status": "completed"
    },
    "tags": []
   },
   "outputs": [],
   "source": [
    "# Model with just LSTM layers\n",
    "def build_basic_seq2seq_model(embedding_dim, latent_dim, max_text_len, x_vocab_size, y_vocab_size):\n",
    "    # instantiating the model in the strategy scope creates the model on the TPU\n",
    "    with tpu_strategy.scope():\n",
    "    \n",
    "        # =====================\n",
    "        # 🔥 Encoder\n",
    "        # =====================\n",
    "        encoder_input = Input(shape=(max_text_len,))\n",
    "\n",
    "        # encoder embedding layer\n",
    "        encoder_embedding = Embedding(x_vocab_size, embedding_dim, trainable=True)(encoder_input)\n",
    "\n",
    "        # encoder lstm 1\n",
    "        encoder_lstm1 = LSTM(latent_dim, return_sequences=True, return_state=True, dropout=0.4, recurrent_dropout=0.4)\n",
    "        encoder_output1, state_h1, state_c1 = encoder_lstm1(encoder_embedding)\n",
    "\n",
    "        # encoder lstm 2\n",
    "        encoder_lstm2 = LSTM(latent_dim, return_sequences=True, return_state=True, dropout=0.4, recurrent_dropout=0.4)\n",
    "        encoder_output, *encoder_final_states = encoder_lstm2(encoder_output1)\n",
    "\n",
    "        # =====================\n",
    "        # 🌈 Decoder\n",
    "        # =====================\n",
    "\n",
    "        # Set up the decoder, using `encoder_states` as initial state.\n",
    "\n",
    "        decoder_input = Input(shape=(None,))\n",
    "\n",
    "        # decoder embedding layer\n",
    "        decoder_embedding_layer = Embedding(y_vocab_size, embedding_dim, trainable=True)\n",
    "        decoder_embedding = decoder_embedding_layer(decoder_input)\n",
    "\n",
    "        # decoder lstm 1\n",
    "        decoder_lstm = LSTM(latent_dim, return_sequences=True, return_state=True, dropout=0.4, recurrent_dropout=0.4)\n",
    "        decoder_output, *decoder_final_states = decoder_lstm(decoder_embedding, initial_state=encoder_final_states)\n",
    "\n",
    "        # dense layer\n",
    "        decoder_dense = TimeDistributed(Dense(y_vocab_size, activation='softmax'))\n",
    "        decoder_output = decoder_dense(decoder_output)\n",
    "\n",
    "        # =====================\n",
    "        # ⚡️ Model\n",
    "        # =====================\n",
    "        model = Model([encoder_input, decoder_input], decoder_output)\n",
    "        model.summary()\n",
    "\n",
    "\n",
    "        optimizer = tf.keras.optimizers.RMSprop(learning_rate=0.001)\n",
    "        model.compile(optimizer=optimizer, loss='sparse_categorical_crossentropy')\n",
    "\n",
    "        return {\n",
    "            'model': model,\n",
    "            'inputs': {\n",
    "                'encoder': encoder_input,\n",
    "                'decoder': decoder_input\n",
    "            },\n",
    "            'outputs': {\n",
    "                'encoder': encoder_output,\n",
    "                'decoder': decoder_output\n",
    "            },\n",
    "            'states': {\n",
    "                'encoder': encoder_final_states,\n",
    "                'decoder': decoder_final_states\n",
    "            },\n",
    "            'layers': {\n",
    "                'decoder': {\n",
    "                    'embedding': decoder_embedding_layer,\n",
    "                    'last_decoder_lstm': decoder_lstm,\n",
    "                    'dense': decoder_dense\n",
    "                }\n",
    "            }\n",
    "        }"
   ]
  },
  {
   "cell_type": "code",
   "execution_count": 36,
   "metadata": {
    "execution": {
     "iopub.execute_input": "2020-10-06T15:34:56.015982Z",
     "iopub.status.busy": "2020-10-06T15:34:56.014810Z",
     "iopub.status.idle": "2020-10-06T15:34:56.018717Z",
     "shell.execute_reply": "2020-10-06T15:34:56.018076Z"
    },
    "papermill": {
     "duration": 0.094807,
     "end_time": "2020-10-06T15:34:56.018860",
     "exception": false,
     "start_time": "2020-10-06T15:34:55.924053",
     "status": "completed"
    },
    "tags": []
   },
   "outputs": [],
   "source": [
    "# Model with Bidirection layers\n",
    "def build_bi_seq2seq_model(embedding_dim, latent_dim, max_text_len, x_vocab_size, y_vocab_size):\n",
    "    # instantiating the model in the strategy scope creates the model on the TPU\n",
    "    with tpu_strategy.scope():\n",
    "\n",
    "        # =====================\n",
    "        # 🔥 Encoder\n",
    "        # =====================\n",
    "        encoder_input = Input(shape=(max_text_len,))\n",
    "\n",
    "        # encoder embedding layer\n",
    "        encoder_embedding = Embedding(x_vocab_size, embedding_dim, trainable=True)(encoder_input)\n",
    "\n",
    "        # encoder lstm1\n",
    "        encoder_bi_lstm1 = Bidirectional(LSTM(latent_dim, return_sequences=True, return_state=True, dropout=0.4, recurrent_dropout=0.4))\n",
    "        encoder_output1, forward_h1, forward_c1, backward_h1, backward_c1 = encoder_bi_lstm1(encoder_embedding)\n",
    "        encoder_bi_lstm1_output = [encoder_output1, forward_h1, forward_c1, backward_h1, backward_c1]\n",
    "\n",
    "        # encoder lstm 2\n",
    "        encoder_bi_lstm2 = Bidirectional(LSTM(latent_dim, return_sequences=True, return_state=True, dropout=0.4, recurrent_dropout=0.4))\n",
    "        encoder_output2, forward_h2, forward_c2, backward_h2, backward_c2 = encoder_bi_lstm2(encoder_output1)\n",
    "        encoder_bi_lstm2_output = [encoder_output2, forward_h2, forward_c2, backward_h2, backward_c2]\n",
    "\n",
    "        # encoder lstm 3\n",
    "        encoder_bi_lstm = Bidirectional(LSTM(latent_dim, return_sequences=True, return_state=True, dropout=0.4, recurrent_dropout=0.4))\n",
    "        encoder_output, *encoder_final_states = encoder_bi_lstm(encoder_output2)\n",
    "\n",
    "\n",
    "        # =====================\n",
    "        # 🌈 Decoder\n",
    "        # =====================\n",
    "\n",
    "        # Set up the decoder, using `encoder_states` as initial state.\n",
    "\n",
    "        decoder_input = Input(shape=(None,))\n",
    "\n",
    "        # decoder embedding layer\n",
    "        decoder_embedding_layer = Embedding(y_vocab_size, embedding_dim, trainable=True)\n",
    "        decoder_embedding = decoder_embedding_layer(decoder_input)\n",
    "\n",
    "        # decoder lstm 1 (this bidirectional lstm one gives error running the decoder inferences part of it)\n",
    "        # ValueError: Layer bidirectional_3 expects 3 inputs, but it received 1 input tensors. Inputs received: [<tf.Tensor 'model_7/embedding_1/embedding_lookup/Identity:0' shape=(None, 1, 200) dtype=float32>]\n",
    "        # After replacing bidirectional lstm with just lstm the performance decreases\n",
    "        # decoder_bi_lstm = Bidirectional(LSTM(latent_dim, return_sequences=True,return_state=True, dropout=0.4, recurrent_dropout=0.2))\n",
    "        # decoder_output, *decoder_final_states = decoder_bi_lstm(decoder_embedding, initial_state=encoder_final_states)\n",
    "        \n",
    "        decoder_bi_lstm = LSTM(latent_dim, return_sequences=True,return_state=True, dropout=0.4, recurrent_dropout=0.2)\n",
    "        decoder_output, *decoder_final_states = decoder_bi_lstm(decoder_embedding, initial_state=encoder_final_states[:2]) # taking only the forward states        \n",
    "        \n",
    "        # dense layer\n",
    "        decoder_dense = TimeDistributed(Dense(y_vocab_size, activation='softmax'))\n",
    "        decoder_output = decoder_dense(decoder_output)\n",
    "\n",
    "        # =====================\n",
    "        # ⚡️ Model\n",
    "        # =====================\n",
    "        model = Model([encoder_input, decoder_input], decoder_output)\n",
    "        model.summary()\n",
    "\n",
    "\n",
    "        optimizer = tf.keras.optimizers.RMSprop(learning_rate=0.001)\n",
    "        model.compile(optimizer=optimizer, loss='sparse_categorical_crossentropy')\n",
    "        \n",
    "        return {\n",
    "            'model': model,\n",
    "            'inputs': {\n",
    "                'encoder': encoder_input,\n",
    "                'decoder': decoder_input\n",
    "            },\n",
    "            'outputs': {\n",
    "                'encoder': encoder_output,\n",
    "                'decoder': decoder_output\n",
    "            },\n",
    "            'states': {\n",
    "                'encoder': encoder_final_states,\n",
    "                'decoder': decoder_final_states\n",
    "            },\n",
    "            'layers': {\n",
    "                'decoder': {\n",
    "                    'embedding': decoder_embedding_layer,\n",
    "                    'last_decoder_lstm': decoder_bi_lstm,\n",
    "                    'dense': decoder_dense\n",
    "                }\n",
    "            }\n",
    "        }"
   ]
  },
  {
   "cell_type": "code",
   "execution_count": 37,
   "metadata": {
    "execution": {
     "iopub.execute_input": "2020-10-06T15:34:56.169435Z",
     "iopub.status.busy": "2020-10-06T15:34:56.168564Z",
     "iopub.status.idle": "2020-10-06T15:34:59.374801Z",
     "shell.execute_reply": "2020-10-06T15:34:59.373966Z"
    },
    "papermill": {
     "duration": 3.282019,
     "end_time": "2020-10-06T15:34:59.375022",
     "exception": false,
     "start_time": "2020-10-06T15:34:56.093003",
     "status": "completed"
    },
    "tags": []
   },
   "outputs": [
    {
     "name": "stdout",
     "output_type": "stream",
     "text": [
      "Model: \"model\"\n",
      "__________________________________________________________________________________________________\n",
      "Layer (type)                    Output Shape         Param #     Connected to                     \n",
      "==================================================================================================\n",
      "input_1 (InputLayer)            [(None, 80)]         0                                            \n",
      "__________________________________________________________________________________________________\n",
      "embedding (Embedding)           (None, 80, 240)      19011840    input_1[0][0]                    \n",
      "__________________________________________________________________________________________________\n",
      "input_2 (InputLayer)            [(None, None)]       0                                            \n",
      "__________________________________________________________________________________________________\n",
      "lstm (LSTM)                     [(None, 80, 240), (N 461760      embedding[0][0]                  \n",
      "__________________________________________________________________________________________________\n",
      "embedding_1 (Embedding)         (None, None, 240)    8244000     input_2[0][0]                    \n",
      "__________________________________________________________________________________________________\n",
      "lstm_1 (LSTM)                   [(None, 80, 240), (N 461760      lstm[0][0]                       \n",
      "__________________________________________________________________________________________________\n",
      "lstm_2 (LSTM)                   [(None, None, 240),  461760      embedding_1[0][0]                \n",
      "                                                                 lstm_1[0][1]                     \n",
      "                                                                 lstm_1[0][2]                     \n",
      "__________________________________________________________________________________________________\n",
      "time_distributed (TimeDistribut (None, None, 34350)  8278350     lstm_2[0][0]                     \n",
      "==================================================================================================\n",
      "Total params: 36,919,470\n",
      "Trainable params: 36,919,470\n",
      "Non-trainable params: 0\n",
      "__________________________________________________________________________________________________\n"
     ]
    }
   ],
   "source": [
    "# Using model with just lstms\n",
    "seq2seq = build_basic_seq2seq_model(embedding_dim, latent_dim, max_text_len, x_vocab_size, y_vocab_size)\n",
    "# If you want to change model then just change the function above\n",
    "\n",
    "model = seq2seq['model']\n",
    "\n",
    "encoder_input = seq2seq['inputs']['encoder']\n",
    "decoder_input = seq2seq['inputs']['decoder']\n",
    "\n",
    "encoder_output = seq2seq['outputs']['encoder']\n",
    "decoder_output = seq2seq['outputs']['decoder']\n",
    "\n",
    "encoder_final_states = seq2seq['states']['encoder']\n",
    "decoder_final_states = seq2seq['states']['decoder']\n",
    "\n",
    "decoder_embedding_layer = seq2seq['layers']['decoder']['embedding']\n",
    "last_decoder_lstm = seq2seq['layers']['decoder']['last_decoder_lstm']\n",
    "decoder_dense = seq2seq['layers']['decoder']['dense']"
   ]
  },
  {
   "cell_type": "code",
   "execution_count": 38,
   "metadata": {
    "execution": {
     "iopub.execute_input": "2020-10-06T15:34:59.510691Z",
     "iopub.status.busy": "2020-10-06T15:34:59.509737Z",
     "iopub.status.idle": "2020-10-06T15:34:59.514672Z",
     "shell.execute_reply": "2020-10-06T15:34:59.513899Z"
    },
    "papermill": {
     "duration": 0.074871,
     "end_time": "2020-10-06T15:34:59.514801",
     "exception": false,
     "start_time": "2020-10-06T15:34:59.439930",
     "status": "completed"
    },
    "tags": []
   },
   "outputs": [
    {
     "data": {
      "text/plain": [
       "[<tf.Tensor 'embedding_1/Identity:0' shape=(None, None, 240) dtype=float32>,\n",
       " <tf.Tensor 'lstm_1/Identity_1:0' shape=(None, 240) dtype=float32>,\n",
       " <tf.Tensor 'lstm_1/Identity_2:0' shape=(None, 240) dtype=float32>]"
      ]
     },
     "execution_count": 38,
     "metadata": {},
     "output_type": "execute_result"
    }
   ],
   "source": [
    "model.layers[-2].input"
   ]
  },
  {
   "cell_type": "code",
   "execution_count": 39,
   "metadata": {
    "execution": {
     "iopub.execute_input": "2020-10-06T15:34:59.651836Z",
     "iopub.status.busy": "2020-10-06T15:34:59.651039Z",
     "iopub.status.idle": "2020-10-06T15:34:59.653807Z",
     "shell.execute_reply": "2020-10-06T15:34:59.654428Z"
    },
    "papermill": {
     "duration": 0.074917,
     "end_time": "2020-10-06T15:34:59.654593",
     "exception": false,
     "start_time": "2020-10-06T15:34:59.579676",
     "status": "completed"
    },
    "tags": []
   },
   "outputs": [],
   "source": [
    "callbacks = [\n",
    "    tf.keras.callbacks.EarlyStopping(\n",
    "        monitor='val_loss', mode='min', verbose=1, patience=2),\n",
    "    tf.keras.callbacks.ReduceLROnPlateau(\n",
    "        monitor=\"val_loss\", factor=0.1, patience=1, min_lr=0.000001, verbose=1),\n",
    "]"
   ]
  },
  {
   "cell_type": "code",
   "execution_count": 40,
   "metadata": {
    "execution": {
     "iopub.execute_input": "2020-10-06T15:34:59.819045Z",
     "iopub.status.busy": "2020-10-06T15:34:59.818014Z",
     "iopub.status.idle": "2020-10-06T15:41:07.747420Z",
     "shell.execute_reply": "2020-10-06T15:41:07.746674Z"
    },
    "papermill": {
     "duration": 368.027872,
     "end_time": "2020-10-06T15:41:07.747569",
     "exception": false,
     "start_time": "2020-10-06T15:34:59.719697",
     "status": "completed"
    },
    "tags": []
   },
   "outputs": [
    {
     "name": "stdout",
     "output_type": "stream",
     "text": [
      "Epoch 1/50\n",
      "87/87 [==============================] - 16s 179ms/step - loss: 6.4751 - val_loss: 5.6592 - lr: 0.0010\n",
      "Epoch 2/50\n",
      "87/87 [==============================] - 7s 78ms/step - loss: 5.6076 - val_loss: 5.3496 - lr: 0.0010\n",
      "Epoch 3/50\n",
      "87/87 [==============================] - 7s 78ms/step - loss: 5.4116 - val_loss: 5.2565 - lr: 0.0010\n",
      "Epoch 4/50\n",
      "87/87 [==============================] - 7s 78ms/step - loss: 5.3204 - val_loss: 5.2010 - lr: 0.0010\n",
      "Epoch 5/50\n",
      "87/87 [==============================] - 7s 78ms/step - loss: 5.2357 - val_loss: 5.1491 - lr: 0.0010\n",
      "Epoch 6/50\n",
      "87/87 [==============================] - 7s 78ms/step - loss: 5.1453 - val_loss: 5.0430 - lr: 0.0010\n",
      "Epoch 7/50\n",
      "87/87 [==============================] - 7s 78ms/step - loss: 5.0344 - val_loss: 4.9443 - lr: 0.0010\n",
      "Epoch 8/50\n",
      "87/87 [==============================] - 7s 78ms/step - loss: 4.9150 - val_loss: 4.8333 - lr: 0.0010\n",
      "Epoch 9/50\n",
      "87/87 [==============================] - 7s 78ms/step - loss: 4.8093 - val_loss: 4.7488 - lr: 0.0010\n",
      "Epoch 10/50\n",
      "87/87 [==============================] - 7s 78ms/step - loss: 4.7066 - val_loss: 4.6779 - lr: 0.0010\n",
      "Epoch 11/50\n",
      "87/87 [==============================] - 7s 78ms/step - loss: 4.6080 - val_loss: 4.6077 - lr: 0.0010\n",
      "Epoch 12/50\n",
      "87/87 [==============================] - 7s 78ms/step - loss: 4.5085 - val_loss: 4.5327 - lr: 0.0010\n",
      "Epoch 13/50\n",
      "87/87 [==============================] - 7s 79ms/step - loss: 4.4088 - val_loss: 4.4480 - lr: 0.0010\n",
      "Epoch 14/50\n",
      "87/87 [==============================] - 7s 78ms/step - loss: 4.3106 - val_loss: 4.3933 - lr: 0.0010\n",
      "Epoch 15/50\n",
      "87/87 [==============================] - 7s 78ms/step - loss: 4.2207 - val_loss: 4.3211 - lr: 0.0010\n",
      "Epoch 16/50\n",
      "87/87 [==============================] - 7s 78ms/step - loss: 4.1359 - val_loss: 4.2615 - lr: 0.0010\n",
      "Epoch 17/50\n",
      "87/87 [==============================] - 7s 78ms/step - loss: 4.0559 - val_loss: 4.1956 - lr: 0.0010\n",
      "Epoch 18/50\n",
      "87/87 [==============================] - 7s 78ms/step - loss: 3.9836 - val_loss: 4.1535 - lr: 0.0010\n",
      "Epoch 19/50\n",
      "87/87 [==============================] - 7s 78ms/step - loss: 3.9127 - val_loss: 4.1147 - lr: 0.0010\n",
      "Epoch 20/50\n",
      "87/87 [==============================] - 7s 78ms/step - loss: 3.8455 - val_loss: 4.0589 - lr: 0.0010\n",
      "Epoch 21/50\n",
      "87/87 [==============================] - 7s 79ms/step - loss: 3.7793 - val_loss: 4.0312 - lr: 0.0010\n",
      "Epoch 22/50\n",
      "87/87 [==============================] - 7s 78ms/step - loss: 3.7179 - val_loss: 3.9990 - lr: 0.0010\n",
      "Epoch 23/50\n",
      "87/87 [==============================] - 7s 78ms/step - loss: 3.6583 - val_loss: 3.9599 - lr: 0.0010\n",
      "Epoch 24/50\n",
      "87/87 [==============================] - 7s 78ms/step - loss: 3.6005 - val_loss: 3.9335 - lr: 0.0010\n",
      "Epoch 25/50\n",
      "87/87 [==============================] - 7s 79ms/step - loss: 3.5450 - val_loss: 3.9088 - lr: 0.0010\n",
      "Epoch 26/50\n",
      "87/87 [==============================] - 7s 78ms/step - loss: 3.4918 - val_loss: 3.8903 - lr: 0.0010\n",
      "Epoch 27/50\n",
      "87/87 [==============================] - 7s 79ms/step - loss: 3.4399 - val_loss: 3.8611 - lr: 0.0010\n",
      "Epoch 28/50\n",
      "87/87 [==============================] - 7s 78ms/step - loss: 3.3881 - val_loss: 3.8356 - lr: 0.0010\n",
      "Epoch 29/50\n",
      "87/87 [==============================] - 7s 78ms/step - loss: 3.3387 - val_loss: 3.8198 - lr: 0.0010\n",
      "Epoch 30/50\n",
      "87/87 [==============================] - 7s 86ms/step - loss: 3.2902 - val_loss: 3.7993 - lr: 0.0010\n",
      "Epoch 31/50\n",
      "87/87 [==============================] - 7s 78ms/step - loss: 3.2442 - val_loss: 3.7787 - lr: 0.0010\n",
      "Epoch 32/50\n",
      "87/87 [==============================] - 7s 78ms/step - loss: 3.1990 - val_loss: 3.7654 - lr: 0.0010\n",
      "Epoch 33/50\n",
      "87/87 [==============================] - 7s 78ms/step - loss: 3.1548 - val_loss: 3.7485 - lr: 0.0010\n",
      "Epoch 34/50\n",
      "87/87 [==============================] - 7s 78ms/step - loss: 3.1119 - val_loss: 3.7358 - lr: 0.0010\n",
      "Epoch 35/50\n",
      "87/87 [==============================] - 7s 78ms/step - loss: 3.0705 - val_loss: 3.7183 - lr: 0.0010\n",
      "Epoch 36/50\n",
      "87/87 [==============================] - 7s 78ms/step - loss: 3.0301 - val_loss: 3.7135 - lr: 0.0010\n",
      "Epoch 37/50\n",
      "87/87 [==============================] - 7s 78ms/step - loss: 2.9905 - val_loss: 3.7009 - lr: 0.0010\n",
      "Epoch 38/50\n",
      "87/87 [==============================] - 7s 78ms/step - loss: 2.9528 - val_loss: 3.6850 - lr: 0.0010\n",
      "Epoch 39/50\n",
      "87/87 [==============================] - 7s 78ms/step - loss: 2.9143 - val_loss: 3.6720 - lr: 0.0010\n",
      "Epoch 40/50\n",
      "87/87 [==============================] - 7s 78ms/step - loss: 2.8777 - val_loss: 3.6677 - lr: 0.0010\n",
      "Epoch 41/50\n",
      "87/87 [==============================] - 7s 78ms/step - loss: 2.8412 - val_loss: 3.6600 - lr: 0.0010\n",
      "Epoch 42/50\n",
      "87/87 [==============================] - 7s 78ms/step - loss: 2.8068 - val_loss: 3.6445 - lr: 0.0010\n",
      "Epoch 43/50\n",
      "87/87 [==============================] - 7s 78ms/step - loss: 2.7730 - val_loss: 3.6427 - lr: 0.0010\n",
      "Epoch 44/50\n",
      "87/87 [==============================] - 7s 78ms/step - loss: 2.7390 - val_loss: 3.6313 - lr: 0.0010\n",
      "Epoch 45/50\n",
      "87/87 [==============================] - ETA: 0s - loss: 2.7060\n",
      "Epoch 00045: ReduceLROnPlateau reducing learning rate to 0.00010000000474974513.\n",
      "87/87 [==============================] - 7s 78ms/step - loss: 2.7060 - val_loss: 3.6407 - lr: 0.0010\n",
      "Epoch 46/50\n",
      "87/87 [==============================] - 7s 78ms/step - loss: 2.6156 - val_loss: 3.6135 - lr: 1.0000e-04\n",
      "Epoch 47/50\n",
      "87/87 [==============================] - 7s 78ms/step - loss: 2.6053 - val_loss: 3.6125 - lr: 1.0000e-04\n",
      "Epoch 48/50\n",
      "87/87 [==============================] - 7s 78ms/step - loss: 2.5994 - val_loss: 3.6123 - lr: 1.0000e-04\n",
      "Epoch 49/50\n",
      "87/87 [==============================] - ETA: 0s - loss: 2.5947\n",
      "Epoch 00049: ReduceLROnPlateau reducing learning rate to 1.0000000474974514e-05.\n",
      "87/87 [==============================] - 7s 78ms/step - loss: 2.5947 - val_loss: 3.6124 - lr: 1.0000e-04\n",
      "Epoch 50/50\n",
      "87/87 [==============================] - 7s 78ms/step - loss: 2.5847 - val_loss: 3.6114 - lr: 1.0000e-05\n"
     ]
    }
   ],
   "source": [
    "history = model.fit(\n",
    "    [x_train_padded, y_train_padded[:, :-1]],\n",
    "    y_train_padded.reshape(y_train_padded.shape[0], y_train_padded.shape[1], 1)[:, 1:],\n",
    "    epochs=50,\n",
    "    batch_size=128*tpu_strategy.num_replicas_in_sync,\n",
    "    callbacks=callbacks,\n",
    "    validation_data=(\n",
    "        [x_val_padded, y_val_padded[:, :-1]], \n",
    "        y_val_padded.reshape(y_val_padded.shape[0], y_val_padded.shape[1], 1)[:, 1:]\n",
    "    )\n",
    ")"
   ]
  },
  {
   "cell_type": "code",
   "execution_count": 41,
   "metadata": {
    "execution": {
     "iopub.execute_input": "2020-10-06T15:41:11.398551Z",
     "iopub.status.busy": "2020-10-06T15:41:11.393839Z",
     "iopub.status.idle": "2020-10-06T15:41:11.611296Z",
     "shell.execute_reply": "2020-10-06T15:41:11.610524Z"
    },
    "papermill": {
     "duration": 2.041384,
     "end_time": "2020-10-06T15:41:11.611447",
     "exception": false,
     "start_time": "2020-10-06T15:41:09.570063",
     "status": "completed"
    },
    "tags": []
   },
   "outputs": [
    {
     "data": {
      "image/png": "[encoded data removed]",
      "text/plain": [
       "<Figure size 432x288 with 1 Axes>"
      ]
     },
     "metadata": {
      "needs_background": "light"
     },
     "output_type": "display_data"
    }
   ],
   "source": [
    "# Loss\n",
    "\n",
    "plt.plot(history.history['loss'], label='train')\n",
    "plt.plot(history.history['val_loss'], label='val')\n",
    "plt.legend()\n",
    "plt.show()"
   ]
  },
  {
   "cell_type": "markdown",
   "metadata": {
    "papermill": {
     "duration": 1.851026,
     "end_time": "2020-10-06T15:41:15.286802",
     "exception": false,
     "start_time": "2020-10-06T15:41:13.435776",
     "status": "completed"
    },
    "tags": []
   },
   "source": [
    "### **⚡️ Inference**"
   ]
  },
  {
   "cell_type": "code",
   "execution_count": 42,
   "metadata": {
    "execution": {
     "iopub.execute_input": "2020-10-06T15:41:18.988494Z",
     "iopub.status.busy": "2020-10-06T15:41:18.987463Z",
     "iopub.status.idle": "2020-10-06T15:41:18.990732Z",
     "shell.execute_reply": "2020-10-06T15:41:18.990096Z"
    },
    "papermill": {
     "duration": 1.830929,
     "end_time": "2020-10-06T15:41:18.990854",
     "exception": false,
     "start_time": "2020-10-06T15:41:17.159925",
     "status": "completed"
    },
    "tags": []
   },
   "outputs": [],
   "source": [
    "# Next, let’s build the dictionary to convert the index to word for target and source vocabulary:\n",
    "\n",
    "reverse_target_word_index = y_tokenizer.index_word\n",
    "reverse_source_word_index = x_tokenizer.index_word\n",
    "target_word_index = y_tokenizer.word_index"
   ]
  },
  {
   "cell_type": "code",
   "execution_count": 43,
   "metadata": {
    "execution": {
     "iopub.execute_input": "2020-10-06T15:41:22.633438Z",
     "iopub.status.busy": "2020-10-06T15:41:22.632296Z",
     "iopub.status.idle": "2020-10-06T15:41:22.636034Z",
     "shell.execute_reply": "2020-10-06T15:41:22.635331Z"
    },
    "papermill": {
     "duration": 1.830384,
     "end_time": "2020-10-06T15:41:22.636158",
     "exception": false,
     "start_time": "2020-10-06T15:41:20.805774",
     "status": "completed"
    },
    "tags": []
   },
   "outputs": [],
   "source": [
    "def build_basic_seq2seq_model_inference(\n",
    "    max_text_len, latent_dim,\n",
    "    encoder_input, encoder_output, encoder_final_states,\n",
    "    decoder_input, decoder_output, \n",
    "    decoder_embedding_layer, decoder_dense, last_decoder_lstm\n",
    "):\n",
    "    # Encode the input sequence to get the feature vector\n",
    "    encoder_model = Model(inputs=encoder_input, outputs=[encoder_output] + encoder_final_states)\n",
    "    \n",
    "    # Decoder setup\n",
    "    # Below tensors will hold the states of the previous time step\n",
    "    decoder_state_input_h = Input(shape=(latent_dim,))\n",
    "    decoder_state_input_c = Input(shape=(latent_dim,))\n",
    "    decoder_hidden_state_input = Input(shape=(max_text_len, latent_dim))\n",
    "    \n",
    "    # Get the embeddings of the decoder sequence\n",
    "    decoder_embedding = decoder_embedding_layer(decoder_input)\n",
    "    \n",
    "    # To predict the next word in the sequence, set the initial\n",
    "    # states to the states from the previous time step\n",
    "    decoder_output, *decoder_states = last_decoder_lstm(\n",
    "        decoder_embedding, initial_state=[decoder_state_input_h, decoder_state_input_c]\n",
    "    )\n",
    "    \n",
    "    # A dense softmax layer to generate prob dist. over the target vocabulary\n",
    "    decoder_output = decoder_dense(decoder_output)\n",
    "    \n",
    "    # Final decoder model\n",
    "    decoder_model = Model(\n",
    "        [decoder_input] + [decoder_hidden_state_input, decoder_state_input_h, decoder_state_input_c],\n",
    "        [decoder_output] + decoder_states\n",
    "    )\n",
    "    \n",
    "    return (encoder_model, decoder_model)"
   ]
  },
  {
   "cell_type": "code",
   "execution_count": 44,
   "metadata": {
    "execution": {
     "iopub.execute_input": "2020-10-06T15:41:26.379639Z",
     "iopub.status.busy": "2020-10-06T15:41:26.378530Z",
     "iopub.status.idle": "2020-10-06T15:41:26.382347Z",
     "shell.execute_reply": "2020-10-06T15:41:26.381612Z"
    },
    "papermill": {
     "duration": 1.924075,
     "end_time": "2020-10-06T15:41:26.382471",
     "exception": false,
     "start_time": "2020-10-06T15:41:24.458396",
     "status": "completed"
    },
    "tags": []
   },
   "outputs": [],
   "source": [
    "def build_bi_seq2seq_model_inference(\n",
    "    max_text_len, latent_dim,\n",
    "    encoder_input, encoder_output, encoder_final_states,\n",
    "    decoder_input, decoder_output, \n",
    "    decoder_embedding_layer, decoder_dense, last_decoder_bi_lstm\n",
    "):\n",
    "    \n",
    "    # Encode the input sequence to get the feature vector\n",
    "    encoder_model = Model(inputs=encoder_input, outputs=[encoder_output] + encoder_final_states)\n",
    "    \n",
    "    # Decoder setup\n",
    "    # Below tensors will hold the states of the previous time step\n",
    "    decoder_state_forward_input_h = Input(shape=(latent_dim,))\n",
    "    decoder_state_forward_input_c = Input(shape=(latent_dim,))\n",
    "    decoder_state_backward_input_h = Input(shape=(latent_dim,))\n",
    "    decoder_state_backward_input_c = Input(shape=(latent_dim,))    \n",
    "    \n",
    "    decoder_hidden_state_input = Input(shape=(max_text_len, latent_dim))\n",
    "    \n",
    "    decoder_initial_state = [\n",
    "        decoder_state_forward_input_h,\n",
    "        decoder_state_forward_input_c,\n",
    "        # decoder_state_backward_input_h,\n",
    "        # decoder_state_backward_input_c\n",
    "    ]\n",
    "    \n",
    "    # Get the embeddings of the decoder sequence\n",
    "    decoder_embedding = decoder_embedding_layer(decoder_input)\n",
    "    \n",
    "    # To predict the next word in the sequence, set the initial\n",
    "    # states to the states from the previous time step\n",
    "    decoder_output, *decoder_states = last_decoder_bi_lstm(\n",
    "        decoder_embedding, initial_state=decoder_initial_state\n",
    "    )\n",
    "    \n",
    "    # A dense softmax layer to generate prob dist. over the target vocabulary\n",
    "    decoder_output = decoder_dense(decoder_output)\n",
    "    \n",
    "    # Final decoder model\n",
    "    decoder_model = Model(\n",
    "        [decoder_input] + [decoder_hidden_state_input] + decoder_initial_state,\n",
    "        [decoder_output] + decoder_states\n",
    "    )\n",
    "    \n",
    "    return (encoder_model, decoder_model)"
   ]
  },
  {
   "cell_type": "code",
   "execution_count": 45,
   "metadata": {
    "execution": {
     "iopub.execute_input": "2020-10-06T15:41:30.044791Z",
     "iopub.status.busy": "2020-10-06T15:41:30.037925Z",
     "iopub.status.idle": "2020-10-06T15:41:30.392249Z",
     "shell.execute_reply": "2020-10-06T15:41:30.391459Z"
    },
    "papermill": {
     "duration": 2.191479,
     "end_time": "2020-10-06T15:41:30.392408",
     "exception": false,
     "start_time": "2020-10-06T15:41:28.200929",
     "status": "completed"
    },
    "tags": []
   },
   "outputs": [],
   "source": [
    "encoder_model, decoder_model = build_basic_seq2seq_model_inference(max_text_len, latent_dim, encoder_input, encoder_output, encoder_final_states, decoder_input, decoder_output, decoder_embedding_layer, decoder_dense, last_decoder_lstm)"
   ]
  },
  {
   "cell_type": "code",
   "execution_count": 46,
   "metadata": {
    "execution": {
     "iopub.execute_input": "2020-10-06T15:41:34.044405Z",
     "iopub.status.busy": "2020-10-06T15:41:34.043574Z",
     "iopub.status.idle": "2020-10-06T15:41:34.049845Z",
     "shell.execute_reply": "2020-10-06T15:41:34.050478Z"
    },
    "papermill": {
     "duration": 1.839007,
     "end_time": "2020-10-06T15:41:34.050639",
     "exception": false,
     "start_time": "2020-10-06T15:41:32.211632",
     "status": "completed"
    },
    "tags": []
   },
   "outputs": [
    {
     "name": "stdout",
     "output_type": "stream",
     "text": [
      "Model: \"model_1\"\n",
      "_________________________________________________________________\n",
      "Layer (type)                 Output Shape              Param #   \n",
      "=================================================================\n",
      "input_1 (InputLayer)         [(None, 80)]              0         \n",
      "_________________________________________________________________\n",
      "embedding (Embedding)        (None, 80, 240)           19011840  \n",
      "_________________________________________________________________\n",
      "lstm (LSTM)                  [(None, 80, 240), (None,  461760    \n",
      "_________________________________________________________________\n",
      "lstm_1 (LSTM)                [(None, 80, 240), (None,  461760    \n",
      "=================================================================\n",
      "Total params: 19,935,360\n",
      "Trainable params: 19,935,360\n",
      "Non-trainable params: 0\n",
      "_________________________________________________________________\n"
     ]
    }
   ],
   "source": [
    "encoder_model.summary()"
   ]
  },
  {
   "cell_type": "code",
   "execution_count": 47,
   "metadata": {
    "execution": {
     "iopub.execute_input": "2020-10-06T15:41:37.822205Z",
     "iopub.status.busy": "2020-10-06T15:41:37.821211Z",
     "iopub.status.idle": "2020-10-06T15:41:37.829457Z",
     "shell.execute_reply": "2020-10-06T15:41:37.828727Z"
    },
    "papermill": {
     "duration": 1.876853,
     "end_time": "2020-10-06T15:41:37.829634",
     "exception": false,
     "start_time": "2020-10-06T15:41:35.952781",
     "status": "completed"
    },
    "tags": []
   },
   "outputs": [
    {
     "name": "stdout",
     "output_type": "stream",
     "text": [
      "Model: \"model_2\"\n",
      "__________________________________________________________________________________________________\n",
      "Layer (type)                    Output Shape         Param #     Connected to                     \n",
      "==================================================================================================\n",
      "input_2 (InputLayer)            [(None, None)]       0                                            \n",
      "__________________________________________________________________________________________________\n",
      "embedding_1 (Embedding)         (None, None, 240)    8244000     input_2[0][0]                    \n",
      "__________________________________________________________________________________________________\n",
      "input_3 (InputLayer)            [(None, 240)]        0                                            \n",
      "__________________________________________________________________________________________________\n",
      "input_4 (InputLayer)            [(None, 240)]        0                                            \n",
      "__________________________________________________________________________________________________\n",
      "lstm_2 (LSTM)                   [(None, None, 240),  461760      embedding_1[1][0]                \n",
      "                                                                 input_3[0][0]                    \n",
      "                                                                 input_4[0][0]                    \n",
      "__________________________________________________________________________________________________\n",
      "input_5 (InputLayer)            [(None, 80, 240)]    0                                            \n",
      "__________________________________________________________________________________________________\n",
      "time_distributed (TimeDistribut (None, None, 34350)  8278350     lstm_2[1][0]                     \n",
      "==================================================================================================\n",
      "Total params: 16,984,110\n",
      "Trainable params: 16,984,110\n",
      "Non-trainable params: 0\n",
      "__________________________________________________________________________________________________\n"
     ]
    }
   ],
   "source": [
    "decoder_model.summary()"
   ]
  },
  {
   "cell_type": "code",
   "execution_count": 48,
   "metadata": {
    "execution": {
     "iopub.execute_input": "2020-10-06T15:41:41.512811Z",
     "iopub.status.busy": "2020-10-06T15:41:41.511773Z",
     "iopub.status.idle": "2020-10-06T15:41:41.517660Z",
     "shell.execute_reply": "2020-10-06T15:41:41.516710Z"
    },
    "papermill": {
     "duration": 1.848753,
     "end_time": "2020-10-06T15:41:41.517805",
     "exception": false,
     "start_time": "2020-10-06T15:41:39.669052",
     "status": "completed"
    },
    "tags": []
   },
   "outputs": [
    {
     "data": {
      "text/plain": [
       "[<tf.Tensor 'embedding_1/Identity:0' shape=(None, None, 240) dtype=float32>,\n",
       " <tf.Tensor 'lstm_1/Identity_1:0' shape=(None, 240) dtype=float32>,\n",
       " <tf.Tensor 'lstm_1/Identity_2:0' shape=(None, 240) dtype=float32>]"
      ]
     },
     "execution_count": 48,
     "metadata": {},
     "output_type": "execute_result"
    }
   ],
   "source": [
    "decoder_model.layers[-3].input"
   ]
  },
  {
   "cell_type": "code",
   "execution_count": 49,
   "metadata": {
    "execution": {
     "iopub.execute_input": "2020-10-06T15:41:45.196921Z",
     "iopub.status.busy": "2020-10-06T15:41:45.196064Z",
     "iopub.status.idle": "2020-10-06T15:41:45.200155Z",
     "shell.execute_reply": "2020-10-06T15:41:45.199403Z"
    },
    "papermill": {
     "duration": 1.847218,
     "end_time": "2020-10-06T15:41:45.200289",
     "exception": false,
     "start_time": "2020-10-06T15:41:43.353071",
     "status": "completed"
    },
    "tags": []
   },
   "outputs": [],
   "source": [
    "def decode_sequence_for_basic_seq2seq_model(input_sequence, encoder_model, decoder_model):\n",
    "    # Encode the input as state vectors.\n",
    "    e_out, e_h, e_c = encoder_model.predict(input_sequence)\n",
    "\n",
    "    # Generate empty target sequence of length 1.\n",
    "    target_seq = np.zeros((1, 1))\n",
    "\n",
    "    # Populate the first word of target sequence with the start word.\n",
    "    target_seq[0, 0] = target_word_index[start_token]\n",
    "\n",
    "    stop_condition = False\n",
    "    decoded_sentence = ''\n",
    "\n",
    "    while not stop_condition:\n",
    "        output_tokens, h, c = decoder_model.predict([target_seq] + [e_out, e_h, e_c])\n",
    "\n",
    "        # Sample a token\n",
    "        sampled_token_index = np.argmax(output_tokens[0, -1, :])\n",
    "        sampled_token = reverse_target_word_index[sampled_token_index]\n",
    "\n",
    "        if sampled_token != end_token:\n",
    "            decoded_sentence += ' ' + sampled_token\n",
    "\n",
    "        # Exit condition: either hit max length or find stop word.\n",
    "        if (sampled_token == end_token) or (len(decoded_sentence.split()) >= (max_summary_len-1)):\n",
    "            stop_condition = True\n",
    "\n",
    "        # Update the target sequence (of length 1).\n",
    "        target_seq = np.zeros((1, 1))\n",
    "        target_seq[0, 0] = sampled_token_index\n",
    "\n",
    "        # Update internal states\n",
    "        e_h, e_c = h, c\n",
    "\n",
    "    return decoded_sentence"
   ]
  },
  {
   "cell_type": "code",
   "execution_count": 50,
   "metadata": {
    "execution": {
     "iopub.execute_input": "2020-10-06T15:41:49.101025Z",
     "iopub.status.busy": "2020-10-06T15:41:49.099901Z",
     "iopub.status.idle": "2020-10-06T15:41:49.103589Z",
     "shell.execute_reply": "2020-10-06T15:41:49.102779Z"
    },
    "papermill": {
     "duration": 2.015469,
     "end_time": "2020-10-06T15:41:49.103718",
     "exception": false,
     "start_time": "2020-10-06T15:41:47.088249",
     "status": "completed"
    },
    "tags": []
   },
   "outputs": [],
   "source": [
    "def decode_sequence_for_bi_seq2seq_model(input_sequence, encoder_model, decoder_model):\n",
    "    # Encode the input as state vectors.\n",
    "    e_out, *state_values = encoder_model.predict(input_sequence)\n",
    "\n",
    "    # Generate empty target sequence of length 1.\n",
    "    target_seq = np.zeros((1, 1))\n",
    "\n",
    "    # Populate the first word of target sequence with the start word.\n",
    "    target_seq[0, 0] = target_word_index[start_token]\n",
    "\n",
    "    stop_condition = False\n",
    "    decoded_sentence = ''\n",
    "    \n",
    "    while not stop_condition:\n",
    "        output_tokens, *decoder_states = decoder_model.predict([target_seq] + [e_out] + state_values)\n",
    "\n",
    "        # Sample a token\n",
    "        sampled_token_index = np.argmax(output_tokens[0, -1, :])\n",
    "        sampled_token = reverse_target_word_index[sampled_token_index + 1]\n",
    "\n",
    "        if sampled_token != end_token:\n",
    "            decoded_sentence += ' ' + sampled_token\n",
    "\n",
    "        # Exit condition: either hit max length or find stop word.\n",
    "        if (sampled_token == end_token) or (len(decoded_sentence.split()) >= (max_summary_len-1)):\n",
    "            stop_condition = True\n",
    "\n",
    "        # Update the target sequence (of length 1).\n",
    "        target_seq = np.zeros((1, 1))\n",
    "        target_seq[0, 0] = sampled_token_index\n",
    "\n",
    "        # Update internal states\n",
    "        state_values = decoder_states\n",
    "\n",
    "    return decoded_sentence"
   ]
  },
  {
   "cell_type": "code",
   "execution_count": 51,
   "metadata": {
    "execution": {
     "iopub.execute_input": "2020-10-06T15:41:52.810657Z",
     "iopub.status.busy": "2020-10-06T15:41:52.809729Z",
     "iopub.status.idle": "2020-10-06T15:41:52.812738Z",
     "shell.execute_reply": "2020-10-06T15:41:52.811989Z"
    },
    "papermill": {
     "duration": 1.856981,
     "end_time": "2020-10-06T15:41:52.812862",
     "exception": false,
     "start_time": "2020-10-06T15:41:50.955881",
     "status": "completed"
    },
    "tags": []
   },
   "outputs": [],
   "source": [
    "def seq2summary(input_sequence):\n",
    "    new_string = ''\n",
    "    for i in input_sequence:\n",
    "        if((i != 0 and i != target_word_index[start_token]) and (i != target_word_index[end_token])):\n",
    "            new_string = new_string + reverse_target_word_index[i] + ' '\n",
    "    return new_string\n",
    "\n",
    "\n",
    "def seq2text(input_sequence):\n",
    "    new_string = ''\n",
    "    for i in input_sequence:\n",
    "        if i != 0:\n",
    "            new_string = new_string + reverse_source_word_index[i] + ' '\n",
    "    return new_string"
   ]
  },
  {
   "cell_type": "code",
   "execution_count": 52,
   "metadata": {
    "execution": {
     "iopub.execute_input": "2020-10-06T15:41:56.597505Z",
     "iopub.status.busy": "2020-10-06T15:41:56.596458Z",
     "iopub.status.idle": "2020-10-06T15:41:56.600849Z",
     "shell.execute_reply": "2020-10-06T15:41:56.600174Z"
    },
    "papermill": {
     "duration": 1.916098,
     "end_time": "2020-10-06T15:41:56.600980",
     "exception": false,
     "start_time": "2020-10-06T15:41:54.684882",
     "status": "completed"
    },
    "tags": []
   },
   "outputs": [
    {
     "name": "stdout",
     "output_type": "stream",
     "text": [
      "[1, 2, 3, 4, 5, 6, 7, 8, 9, 10, 0, 0]\n",
      "[1, 2, 3]\n",
      "[4, 5, 6]\n",
      "[7, 8, 9]\n",
      "[10, 0, 0]\n",
      " james ethan  tony\n",
      "james ethan tony\n"
     ]
    }
   ],
   "source": [
    "l = [1, 2, 3, 4, 5, 6, 7, 8, 9, 10]\n",
    "\n",
    "if len(l) % 3 != 0:\n",
    "    while len(l) % 3 != 0:\n",
    "        l.append(0)\n",
    "print(l)\n",
    "\n",
    "lst_i = 3\n",
    "for i in range(0, len(l), 3):\n",
    "    print(l[i:i+lst_i])\n",
    "    \n",
    "print(' '.join(['', 'james', 'ethan', '', 'tony']))\n",
    "print(' '.join(' '.join(['', 'james', 'ethan', '', 'tony']).split()))"
   ]
  },
  {
   "cell_type": "code",
   "execution_count": 53,
   "metadata": {
    "execution": {
     "iopub.execute_input": "2020-10-06T15:42:00.384987Z",
     "iopub.status.busy": "2020-10-06T15:42:00.383871Z",
     "iopub.status.idle": "2020-10-06T15:42:00.386776Z",
     "shell.execute_reply": "2020-10-06T15:42:00.387335Z"
    },
    "papermill": {
     "duration": 1.893902,
     "end_time": "2020-10-06T15:42:00.387514",
     "exception": false,
     "start_time": "2020-10-06T15:41:58.493612",
     "status": "completed"
    },
    "tags": []
   },
   "outputs": [],
   "source": [
    "# For predicting unseen data\n",
    "# pass decode_sequence function for which you want to decode\n",
    "def predict_text(text, decode_sequence, encoder_model, decoder_model):\n",
    "    original_text = text\n",
    "    text = clean_text([text]) # generator\n",
    "    text_list = original_text.split()\n",
    "    \n",
    "    if len(text_list) <= max_text_len:\n",
    "        text = ['_START_ '+ str(doc) + ' _END_' for doc in nlp.pipe(text, batch_size=5000, n_threads=-1)][0]\n",
    "        text = f'{start_token} {text} {end_token}'\n",
    "        \n",
    "        seq = x_tokenizer.texts_to_sequences([' '.join(text_list)])\n",
    "        padded = pad_sequences(seq, maxlen=max_text_len, padding='post')\n",
    "        pred_summary = decode_sequence(padded.reshape(1, max_text_len), encoder_model, decoder_model)\n",
    "        return pred_summary\n",
    "    else:\n",
    "        pred_summary = ''\n",
    "\n",
    "        # breaking long texts to individual max_text_len texts and predicting on them\n",
    "        while len(text_list) % max_text_len == 0:\n",
    "            text_list.append('')\n",
    "        \n",
    "        lst_i = max_text_len\n",
    "        for i in range(0, len(text_list), max_text_len):\n",
    "            _text_list = original_text.split()[i:i+lst_i]\n",
    "            _text = ' '.join(_text_list)            \n",
    "            _text = ' '.join(_text.split())  # to remove spaces that were added to make len(text_list) % max_text_len == 0\n",
    "            \n",
    "            _text = clean_text([_text]) # generator\n",
    "            _text = ['_START_ '+ str(doc) + ' _END_' for doc in nlp.pipe(_text, batch_size=5000, n_threads=-1)][0]\n",
    "            _text = f'{start_token} {_text} {end_token}'\n",
    "            # print(_text, '\\n')\n",
    "\n",
    "            _seq = x_tokenizer.texts_to_sequences([_text])\n",
    "            _padded = pad_sequences(_seq, maxlen=max_text_len, padding='post')\n",
    "            _pred = decode_sequence(_padded.reshape(1, max_text_len), encoder_model, decoder_model)\n",
    "            pred_summary += ' ' + ' '.join(_pred.split()[1:-2])\n",
    "            pred_summary = ' '.join(pred_summary.split())\n",
    "            \n",
    "        return pred_summary"
   ]
  },
  {
   "cell_type": "markdown",
   "metadata": {
    "papermill": {
     "duration": 1.822524,
     "end_time": "2020-10-06T15:42:04.050172",
     "exception": false,
     "start_time": "2020-10-06T15:42:02.227648",
     "status": "completed"
    },
    "tags": []
   },
   "source": [
    "## **🔮 Predictions**"
   ]
  },
  {
   "cell_type": "code",
   "execution_count": 54,
   "metadata": {
    "execution": {
     "iopub.execute_input": "2020-10-06T15:42:07.831716Z",
     "iopub.status.busy": "2020-10-06T15:42:07.830611Z",
     "iopub.status.idle": "2020-10-06T15:42:57.939031Z",
     "shell.execute_reply": "2020-10-06T15:42:57.939668Z"
    },
    "papermill": {
     "duration": 52.025006,
     "end_time": "2020-10-06T15:42:57.939858",
     "exception": false,
     "start_time": "2020-10-06T15:42:05.914852",
     "status": "completed"
    },
    "tags": []
   },
   "outputs": [
    {
     "name": "stdout",
     "output_type": "stream",
     "text": [
      "# 1 News:  indigo has issued clarification after twitter account called presidentverde shared fake images about the airline introducing manhandling services with immediate effect presidentverde also retweeted post by another account trolling the airline the airline has been slammed after video of fight between passenger and its staffers went viral \n",
      "Original summary:  start indigo says tweet offering manhandling services is fake end \n",
      "Predicted summary:   start indigo ceo slams airline for not paying for fake news end\n",
      "\n",
      "# 2 News:  security researcher jackie stokes has claimed that an unnamed facebook employee stalked women online through privileged access of the company resources have tinder logs what should do with this information she tweeted in response facebook said it is already investigating the matter and added that the company could not comment on individual personnel matters \n",
      "Original summary:  start fb employee accused of using firm resources to stalk women end \n",
      "Predicted summary:   start hacker accused of copying fake news on facebook page end\n",
      "\n",
      "# 3 News:  the badminton association of india has announced cash award of ã¢ââ¹5 lakh for kidambi srikanth for winning the australian open superseries his second title in as many weeks the australian open final was srikanth third consecutive superseries final with him finishing second in singapore and clinching the indonesia open srikanth also defeated world number one twice in week \n",
      "Original summary:  start bai announces ã¢ââ¹5 lakh cash reward for kidambi srikanth end \n",
      "Predicted summary:   start srikanth named world no srikanth on winning world no 1 end\n",
      "\n",
      "# 4 News:  us job and salary website glassdoor has announced that it will be acquired by japanese human resources company recruit holdings for 1 2 billion glassdoor currently has data on over 7 7 lakh companies located in more than 190 countries which includes more than 40 million reviews glassdoor also provides recruiting solutions to over 000 employers including 40 of fortune 500 companies \n",
      "Original summary:  start us job review site glassdoor acquired for 1 2 billion end \n",
      "Predicted summary:   start us firm to invest 1 billion in uae for finding cryptocurrency end\n",
      "\n",
      "# 5 News:  the interim insolvency professional appointed by the national company law tribunal nclt has called for an expression of interest from potential buyers of defunct homestay startup stayzilla the applicants should have net worth of at least ã¢ââ¹50 crore to buy the startup stayzilla shut down last year after it was unable to recover the money that was invested \n",
      "Original summary:  start tribunal puts up defunct startup stayzilla for sale end \n",
      "Predicted summary:   start uk firm seeks nod to buy zomato over faulty airbag crisis end\n",
      "\n",
      "# 6 News:  three of the twelve boys who were trapped in cave in northern thailand for 18 days were granted thai citizenship on wednesday the boys were stateless despite being born in thailand and their lack of citizenship deprived them of some basic benefits and rights all the three had applied for citizenship before the cave incident \n",
      "Original summary:  start stateless boys rescued from thai cave granted citizenship end \n",
      "Predicted summary:   start thai cave who rescued from thai cave rescued from thai cave end\n",
      "\n",
      "# 7 News:  the supreme court has directed all states to complete the audit of all shelter homes and the district magistrates to finalise their report by september 15 it seems that no one is interested in monitoring conditions in shelter homes it remarked this comes in the wake of muzaffarpur and deoria shelter homes cases in which inmates were allegedly sexually abused \n",
      "Original summary:  start sc asks states to complete audit of shelter homes by sep 15 end \n",
      "Predicted summary:   start sc orders states to take action over shelter homes cases end\n",
      "\n",
      "# 8 News:  german defender mats hummels took to twitter to apologise as defending champions germany crashed out of fifa world cup in group stage for the first time ever on wednesday as much as it hurts to bow out this early congratulations to sweden and mexico we can only apologise that we failed to do it justice german team twitter handle wrote \n",
      "Original summary:  start german player apologises after team early world cup exit end \n",
      "Predicted summary:   start german footballer who is world cup player of wc match end\n",
      "\n",
      "# 9 News:  bengaluru based healthcare startup niramai has reportedly raised about 6 7 million from flipkart co founder and ex group ceo binny bansal alongside existing investors pi ventures axilor and ankur capital niramai uses data analytics and artificial intelligence for early breast cancer detection it was founded in 2016 by former hewlett packard and xerox workers geetha manjunath and nidhi mathur \n",
      "Original summary:  start binny bansal others invest 6 7mn in luru startup report end \n",
      "Predicted summary:   start binny bansal raises 1 million from softbank others end\n",
      "\n",
      "# 10 News:  the delhi police on tuesday arrested jnu professor atul johri over allegations of sexual harassment by several students the students had alleged the accused openly demanded sex made sexually coloured remarks and held grudges against the students if they objected this comes after days of protests by jnu students who accused the police of shielding the accused \n",
      "Original summary:  start jnu professor arrested for sexual harassment after protests end \n",
      "Predicted summary:   start iit madras police suspends over sexual harassment charges end\n",
      "\n",
      "# 11 News:  an rti response revealed that between 2014 and 2017 the modi government has provided nearly ã¢ââ¹68 crore as subsidy to states to run slaughterhouses the ministry for food processing industries said that the subsidy was provided for scheme run by the government for the establishment and modernisation of slaughterhouses local jd leader from darbhanga had filed the rti \n",
      "Original summary:  start centre gave ã¢ââ¹68 crore subsidy to slaughterhouses rti end \n",
      "Predicted summary:   start centre asks centre to submit funds for aadhaar rti end\n",
      "\n",
      "# 12 News:  in the new income tax return forms the salaried taxpayers have to provide more details about their salary break up and income from property it has been made mandatory for small businesses to report their gst identification number and turnover reported under gst non resident indians nris can provide details of any one foreign bank account to claim credit or refunds \n",
      "Original summary:  start what are the features in the new income tax return forms end \n",
      "Predicted summary:   start i t dept to pay ã¢ââ¹10 000 crore for filing returns notes end\n",
      "\n",
      "# 13 News:  a us woman has become the first human ever infected with parasitic eye infection spread by flies as many as 14 worms were removed from abby beckley left eye in august 2016 after she felt an itching sensation in it for over week each worm was less than half an inch long the case was reported on monday \n",
      "Original summary:  start 14 worms pulled from woman eye in 1st such infection case end \n",
      "Predicted summary:   start woman who lost the first ever ever ever ever woman end\n",
      "\n",
      "# 14 News:  unique identification authority of india uidai has clarified that aadhaar is still necessary for opening new bank accounts or applying for tatkal passports the supreme court on tuesday had shifted the deadline for linking it to existing bank accounts and pan card among others it added that those without aadhaar could avail the services with an aadhaar application number \n",
      "Original summary:  start aadhaar must for new bank account tatkal passport uidai end \n",
      "Predicted summary:   start aadhaar linking aadhaar must be used to attract uidai end\n",
      "\n",
      "# 15 News:  at an election rally in rajasthan on monday bjp chief amit shah said rahul gandhi uses the name of modi ji more than bjp we don understand if he is campaigning for the congress or for the bjp shah also said the bjp led rajasthan government is the foot of angad character in ramayan and cannot be moved \n",
      "Original summary:  start don know if rahul is campaigning for congress or bjp shah end \n",
      "Predicted summary:   start bjp doesn want to see bjp bjp mp on rahul gandhi end\n",
      "\n",
      "# 16 News:  actress sagarika ghatge who got engaged to cricketer zaheer khan has said they will plan their wedding after the ipl season is over talking about zaheer proposal she said we went to goa for holiday it was complete surprise the couple made their first public appearance at cricketer yuvraj singh and actress hazel keech wedding in 2016 \n",
      "Original summary:  start zaheer and will plan wedding after ipl is over sagarika end \n",
      "Predicted summary:   start zaheer khan named best brand for the ipl 2018 end\n",
      "\n",
      "# 17 News:  the first look motion poster of actor nagarjuna upcoming film raju gari gadhi has been released on the occasion of his 58th birthday on tuesday the film which is said to be horror comedy also stars samantha ruth prabhu and seerat kapoor in the lead roles raju gari gadhi has been directed by filmmaker ohmkar \n",
      "Original summary:  start motion poster of nagarjuna film released on his birthday end \n",
      "Predicted summary:   start poster of motion poster of fukrey returns released end\n",
      "\n",
      "# 18 News:  manchester city won their first trophy under coach pep guardiola after thrashing arsenal 3 0 in the final of the english league cup at the wembley on sunday manchester city have won the league cup for the fifth time this is city biggest ever win in cup final as well as the arsenal biggest ever loss in cup final \n",
      "Original summary:  start man city thrash arsenal 3 0 to lift english league cup end \n",
      "Predicted summary:   start man city thrash tottenham 3 0 to win their first ever win end\n",
      "\n",
      "# 19 News:  the supreme court has ordered that kashmiri resident gulzar ahmed wani an accused in the 2000 sabarmati express bomb blast be released in november even if the trial was incomplete the court called it matter of shame that police insisted on judicial custody of the man languishing in up jail for 16 years without bail \n",
      "Original summary:  start kashmiri man locked in up jail to be freed after 16 yrs end \n",
      "Predicted summary:   start sc upholds order on fire at airport for killing of year end\n",
      "\n",
      "# 20 News:  swedish automaker volvo on wednesday unveiled new self driving electric truck called vera the truck which does not have driver cab is under development and will be first deployed in places like ports and large logistics centres the company said it has lower operating speed than normal truck for safety reasons company executive added \n",
      "Original summary:  start volvo unveils self driving electric truck with no driver cab end \n",
      "Predicted summary:   start volvo unveils self driving car to build electric car car end\n",
      "\n",
      "# 21 News:  the mechanic who stole plane from seattle airport on saturday reportedly told air traffic controllers that he was broken guy he also joked about whether the airline would hire him if he landed safely the man called rich in audio recordings said he wouldn land at nearby military base as he will be roughed up \n",
      "Original summary:  start i broken man who crashed us plane told air traffic control end \n",
      "Predicted summary:   start i was going to be used to stop plane crash french prez end\n",
      "\n",
      "# 22 News:  a priest in rajasthan pushkar who presided over the puja offered by congress president rahul gandhi at brahma temple said rahul gandhi came and offered prayers at the ghat he also said his gotra is dattatreya he kashmiri brahmin motilal nehru jawaharlal nehru indira gandhi sonia gandhi have offered prayers at the ghat and it recorded with us he added \n",
      "Original summary:  start rahul gandhi told me his gotra is dattatreya pushkar priest end \n",
      "Predicted summary:   start rahul gandhi is the most important for congress leader end\n",
      "\n",
      "# 23 News:  a commission examining the sub categorisation of the central list of obcs has decided to conduct countrywide survey to estimate the caste wise population figures the commission has sought funds from the centre for the same since there no available official caste wise population data post independence the commission has decided to get an all india survey justice rohini retired said \n",
      "Original summary:  start panel to conduct survey for sub categorisation of obc end \n",
      "Predicted summary:   start govt to introduce voluntary phd for all of its year end\n",
      "\n",
      "# 24 News:  ten people were injured late on monday as migrant camp which housed around 500 people near dunkirk in france was burnt after knife fight broke out among its afghan and kurdish inhabitants according to reports large number of migrants and refugees including unaccompanied children have been left homeless according to an aid agency \n",
      "Original summary:  start french migrant camp burnt as kurdish afghan factions fight end \n",
      "Predicted summary:   start up migrants killed in egypt over jerusalem end\n",
      "\n",
      "# 25 News:  hollywood actor matt damon has said it great to have stars like akshay kumar and films like toilet ek prem katha highlighting the open defecation crisis it helps to drive more awareness of the issues also what can be done to tackle this and create change added damon he further said that his ngo water org is dedicated to ending open defecation globally \n",
      "Original summary:  start great that akshay highlights open defecation in film matt end \n",
      "Predicted summary:   start not making baahubali actor prabhas on padman end\n",
      "\n",
      "# 26 News:  a 62 year old man was sentenced to 20 years of imprisonment for allegedly raping an eight year old girl in bengaluru district and sessions court also imposed fine of ã¢ââ¹14 000 after finding him guilty of raping the minor girl special police team arrested the accused within hours of the incident that took place on november 19 this year \n",
      "Original summary:  yr old awarded 20 years in jail for raping 8 yr old girl end \n",
      "Predicted summary:   start man jailed for raping minor girl in gurugram end\n",
      "\n",
      "# 27 News:  singer lily allen has revealed that she slept with female prostitutes while on tour for her album sheezus this was reportedly during the time her marriage with sam cooper broke down in an instagram post she shared lily wrote was lost and lonely and looking for something not proud but not ashamed don do it anymore \n",
      "Original summary:  start i slept with female prostitutes on concert tour singer lily allen end \n",
      "Predicted summary:   start model who is the only female singer who died of sexual harassment end\n",
      "\n",
      "# 28 News:  a parrot trapped on the roof of house in edmonton london refused help from fire team that came to rescue her by telling them to off jessie turquoise and yellow macaw had been stuck on the roof for three days the bird was finally retrieved by her owner after it flew onto another roof \n",
      "Original summary:  start parrot trapped for days tells rescuers to off end \n",
      "Predicted summary:   start man stuck in thai cave after being stuck in road accident end\n",
      "\n",
      "# 29 News:  sonam kapoor and kareena kapoor starrer veere di wedding which released today has bold theme that defies stereotypes wrote bollywood hungama the times of india toi said the film is brave effort koimoi wrote that it might find connect but with very limited range of audience it was rated 3 5 5 bollywood hungama toi and 2 5 5 koimoi \n",
      "Original summary:  start sonam kareena starrer veere di wedding hits theatres end \n",
      "Predicted summary:   start sonam starrer veere di wedding hits the theatres end\n",
      "\n",
      "# 30 News:  after reports claimed that kings xi punjab owner preity zinta slammed team mentor virender sehwag following their loss against rajasthan royals the actress tweeted that her conversation with sehwag was blown out of proportion zinta further added in her tweet that following the fake news about her conversation with sehwag she has suddenly been made villain \n",
      "Original summary:  start talk between viru me blown out of proportion preity zinta end \n",
      "Predicted summary:   start preity zinta tweets user on dhoni completing his remarks end\n",
      "\n",
      "# 31 News:  another youth hailing from jammu and kashmir kulgam district gave up militancy and returned to his home on sunday following an appeal by his parents we are neither taking it as surrender nor arresting him igp munir khan said this comes days after footballer from the valley who had joined terror organisation lashkar e taiba let surrendered to the security forces \n",
      "Original summary:  start another kashmiri youth gives up militancy returns home end \n",
      "Predicted summary:   start j khand youth forced to leave militancy after he was end\n",
      "\n",
      "# 32 News:  us president donald trump got prank call on board air force one from comedian john melendez who posed as democratic senator bob menendez melendez published podcast of the purported conversation between him and the us president the president wants to be accessible and have the opportunity to connect the downside is sometimes mistakes like this happen the white house said \n",
      "Original summary:  start trump pranked by comedian pretending to be us senator end \n",
      "Predicted summary:   start trump says he was an embarrassment former us senator end\n",
      "\n",
      "# 33 News:  television film producer ekta kapoor has said that when sex is prohibited it actually encourages sexual crime think as nation we should stop having problem with sex said ekta however she admitted she cannot make stories on tv which are bold as even kiss on the small screen seems discomforting if her father jeetendra is around \n",
      "Original summary:  start when we prohibit sex we encourage sexual crime ekta kapoor end \n",
      "Predicted summary:   start sex abuse is in my career malayalam actress end\n",
      "\n",
      "# 34 News:  ex afghanistan president hamid karzai has said that he had found delhi lot more conservative than his country capital kabul during his first visit to india in 1976 addressing the audience at the jaipur literature festival on friday karzai added he was familiar with india even before his visit due to the country cinema which is very popular in afghanistan n \n",
      "Original summary:  start had found delhi more conservative than kabul ex afghan prez end \n",
      "Predicted summary:   start i have been the first ever country of india president end\n",
      "\n",
      "# 35 News:  china on tuesday announced that it will slash the import duty on passenger cars to 15 starting july from the current 25 which has been in place for over decade following the news shares of jaguar land rover owner tata motors jumped as much as 5 further the import duty on car parts will be reduced to 6 \n",
      "Original summary:  start china to cut import duty on cars to 15 from july 1 end \n",
      "Predicted summary:   start china to cut off cars to cut off private cars reports end\n",
      "\n",
      "# 36 News:  australian vice captain david warner has said that the 2013 punch up incident with joe root helped him transform into the cricketer and man he is today it was learning curve for myself said warner the altercation between the two happened in birmingham bar after england defeated australia in the champions trophy 2013 following which warner was suspended and fined \n",
      "Original summary:  start punching joe root turning point off and on pitch warner end \n",
      "Predicted summary:   start warner once sledged me as he was nicknamed warne end\n",
      "\n",
      "# 37 News:  no one killed jessica director raj kumar gupta on the occasionã¢ââ of the film completing years since its release said that he love to work with rani mukerji and vidya balan once again was happy that was able to bring vidya and rani together on this film they both fell in love with my script he added \n",
      "Original summary:  start would love to cast rani vidya again no one killed maker end \n",
      "Predicted summary:   start i am not the first time in film industry nawazuddin end\n",
      "\n",
      "# 38 News:  technology giant microsoft co founder bill gates in recent interview said recently did switch to an android phone and added that it runs lot of microsoft software while gates showed no interest in an iphone but he did admit that steve jobs was genius microsoft started selling samsung galaxy s8 with microsoft applications earlier this year \n",
      "Original summary:  start microsoft co founder bill gates uses an android phone end \n",
      "Predicted summary:   start microsoft co founder wozniak says microsoft microsoft end\n",
      "\n",
      "# 39 News:  samajwadi party leader azam khan has said if shariat is influencing bjp leaders so much then they should consider joining it rather than focusing on triple talaq matter bjp should consider addressing other issues he said divorce rates in other religious communities are much more than among muslims we don want to embarrass bjp by disclosing these figures he added \n",
      "Original summary:  start bjp leaders should join shariat azam khan end \n",
      "Predicted summary:   start bjp should be allowed to prove bjp leader ram rahim end\n",
      "\n",
      "# 40 News:  former pakistani president pervez musharraf on sunday said that he will face trial in the murder case of former pm benazir bhutto after he returns to the country his statement comes after an anti terrorism court declared him fugitive in the murder case denying any involvement in the assassination musharraf said he was being victimised politically \n",
      "Original summary:  start will return to pak to face bhutto murder trial musharraf end \n",
      "Predicted summary:   start ex pak prez nawaz sharif was not to kill him musharraf end\n",
      "\n",
      "# 41 News:  the 1896 arnold benz motor carriage believed to be the first car to receive speeding ticket will go on display this year the car was going at about 13 kmph which was four times the speed limit the carriage was pulled over by policeman on bicycle and the driver walter arnold was fined shilling plus costs \n",
      "Original summary:  start world 1st car to get speeding ticket was going at 13 kmph end \n",
      "Predicted summary:   start world 1st electric car car begins in 1st time end\n",
      "\n",
      "# 42 News:  speaking after india 2 1 series win against australia in the border gavaskar trophy on tuesday indian captain virat kohli rated the win as the team best series win so far kohli also praised ajinkya rahane leadership and complimented the team ability to sustain the performance throughout the season it been team season kohli added \n",
      "Original summary:  best series win so far kohli on india 2 1 win vs aus end \n",
      "Predicted summary:   start india kohli celebrates india win in series win in aus end\n",
      "\n",
      "# 43 News:  after video showing him assaulting disabled man surfaced bjp leader mohammad miya said the man was abusing pm narendra modi and uttar pradesh cm yogi adityanath he further called it conspiracy to malign bjp the video shows miya trying to force stick into the man mouth while he shouting vote denge samajwadi party chief akhilesh ko \n",
      "Original summary:  start he was abusing pm bjp leader on assaulting disabled man end \n",
      "Predicted summary:   start pm modi is fake video of man who killed bjp mla end\n",
      "\n",
      "# 44 News:  walmart has applied for us patent for floating warehouse that could make deliveries via drones which would bring products from the aircraft down to shoppers homes the blimp like machine could fly up to 000 feet and would be operated either autonomously or by remote pilot it would come with multiple launching pads for drones to deploy from \n",
      "Original summary:  start walmart applies for patent for floating warehouse end \n",
      "Predicted summary:   start apple to stop flying cars to stop using aircraft engine end\n",
      "\n",
      "# 45 News:  alia bhatt while talking about her plans regarding marriage said do want to settle down early in life have an advantage of having started off in career very early alia added that she wouldn want to settle down late in life as that has its own issues however she clarified that she not planning on settling down right now \n",
      "Original summary:  start i do want to settle down early in life says alia bhatt end \n",
      "Predicted summary:   start i don want to be able to do with alia bhatt end\n",
      "\n",
      "# 46 News:  australia based scientists have found that early earth was likely to be barren mountainless and almost entirely under water following their analysis of 4 4 billion year old mineral grains scientists said that earth 4 54 billion years old was quiet and dull place in absence of continental collisions during the first 700 million years after which the first life forms emerged \n",
      "Original summary:  start earth was barren underwater 4 4 billion years ago study end \n",
      "Predicted summary:   start earth may be oldest known by 2030 in space study end\n",
      "\n",
      "# 47 News:  us based ai startup observe ai which has tech team in bengaluru has raised 8 million in series funding led by nexus venture partners the round saw participation from mgv liquid ventures and hack vc along with existing investors emergent ventures and combinator founded in 2017 observe ai assists call centre workers by automating range of tasks \n",
      "Original summary:  start ai startup observe ai raises 8 mn funding led by nexus end \n",
      "Predicted summary:   start ai startup ai raises 5mn from ai startup raises funds end\n",
      "\n",
      "# 48 News:  a us district court has sentenced indian national yahya farooq mohammad to more than 27 years in prison after pleading guilty to providing money to al qaeda to support extremism against the us military mohammad who has also been charged with soliciting the murder of the judge hearing his case will be deported from the us on completion of his sentence \n",
      "Original summary:  start indian gets 27 years in us jail for funding al qaeda end \n",
      "Predicted summary:   start us jails indian origin man for killing indian origin prisoners end\n",
      "\n",
      "# 49 News:  as per reports central board of film certification cbfc chairman prasoon joshi has denied certification to the punjabi film toofan singh the first film that came under his consideration after he took over from pahlaj nihalani it was reportedly denied certification due to excessive violence source said toofan singh is terrorist they ve filmmakers compared him to bhagat singh \n",
      "Original summary:  start 1st film under new cbfc chairman denied certificate report end \n",
      "Predicted summary:   start cbfc chief pahlaj nihalani to be held in housefull report end\n",
      "\n",
      "# 50 News:  us state secretary mike pompeo praised infosys for its plans to create 10 000 american jobs in the next two years the trump administration is committed to an environment for business that will keep generating this kind of prosperity pompeo said he mentioned infosys plans during his address at the selectusa investment summit which attracted investors from around the world \n",
      "Original summary:  start us praises infosys for planning to create 10 000 jobs end \n",
      "Predicted summary:   start us to cut off new zealand to cut costs end\n",
      "\n"
     ]
    }
   ],
   "source": [
    "# Testing on training data\n",
    "\n",
    "for i in range(0, 50):\n",
    "    print(f\"# {i+1} News: \", seq2text(x_train_padded[i]))\n",
    "    print(\"Original summary: \", seq2summary(y_train_padded[i]))\n",
    "    print(\"Predicted summary: \", decode_sequence_for_basic_seq2seq_model(x_train_padded[i].reshape(1, max_text_len), encoder_model, decoder_model))\n",
    "    print()"
   ]
  },
  {
   "cell_type": "markdown",
   "metadata": {
    "papermill": {
     "duration": 1.862121,
     "end_time": "2020-10-06T15:43:01.681545",
     "exception": false,
     "start_time": "2020-10-06T15:42:59.819424",
     "status": "completed"
    },
    "tags": []
   },
   "source": [
    "## **🎁 Saving the model**"
   ]
  },
  {
   "cell_type": "code",
   "execution_count": 55,
   "metadata": {
    "execution": {
     "iopub.execute_input": "2020-10-06T15:43:05.471157Z",
     "iopub.status.busy": "2020-10-06T15:43:05.470375Z",
     "iopub.status.idle": "2020-10-06T15:43:07.073548Z",
     "shell.execute_reply": "2020-10-06T15:43:07.072816Z"
    },
    "papermill": {
     "duration": 3.543887,
     "end_time": "2020-10-06T15:43:07.073678",
     "exception": false,
     "start_time": "2020-10-06T15:43:03.529791",
     "status": "completed"
    },
    "tags": []
   },
   "outputs": [],
   "source": [
    "# HDF5 format\n",
    "model.save('model.h5')    \n",
    "encoder_model.save('encoder_model.h5')\n",
    "decoder_model.save('decoder_model.h5')"
   ]
  },
  {
   "cell_type": "markdown",
   "metadata": {
    "papermill": {
     "duration": 1.845301,
     "end_time": "2020-10-06T15:43:10.798524",
     "exception": false,
     "start_time": "2020-10-06T15:43:08.953223",
     "status": "completed"
    },
    "tags": []
   },
   "source": [
    "---"
   ]
  }
 ],
 "metadata": {
  "kernelspec": {
   "display_name": "Python 3",
   "language": "python",
   "name": "python3"
  },
  "language_info": {
   "codemirror_mode": {
    "name": "ipython",
    "version": 3
   },
   "file_extension": ".py",
   "mimetype": "text/x-python",
   "name": "python",
   "nbconvert_exporter": "python",
   "pygments_lexer": "ipython3",
   "version": "3.7.6"
  },
  "papermill": {
   "duration": 1071.651304,
   "end_time": "2020-10-06T15:43:12.757885",
   "environment_variables": {},
   "exception": null,
   "input_path": "__notebook__.ipynb",
   "output_path": "__notebook__.ipynb",
   "parameters": {},
   "start_time": "2020-10-06T15:25:21.106581",
   "version": "2.1.0"
  }
 },
 "nbformat": 4,
 "nbformat_minor": 4
}
